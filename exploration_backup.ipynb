{
 "cells": [
  {
   "cell_type": "code",
   "execution_count": 1,
   "metadata": {
    "ExecuteTime": {
     "end_time": "2025-01-23T23:26:44.724673Z",
     "start_time": "2025-01-23T23:26:31.857905Z"
    },
    "id": "mzX1wFJAONFQ"
   },
   "outputs": [],
   "source": [
    "# imports\n",
    "import os\n",
    "os.environ[\"CUDA_VISIBLE_DEVICES\"] = \"0\"\n",
    "import pickle\n",
    "import pandas as pd\n",
    "import numpy as np\n",
    "import torch\n",
    "from sklearn.model_selection import StratifiedKFold, train_test_split\n",
    "from xgboost import XGBClassifier\n",
    "from sklearn.pipeline import make_pipeline\n",
    "from sklearn.preprocessing import StandardScaler # To preprocess data for SVM - greatly improves performance\n",
    "from sklearn.svm import SVC\n",
    "from pytorch_tabr import TabRClassifier as TabRClassifier_\n",
    "from itertools import product\n",
    "from typing import Tuple, Union, Optional, Callable\n",
    "from tqdm import tqdm"
   ]
  },
  {
   "cell_type": "code",
   "execution_count": 2,
   "metadata": {
    "ExecuteTime": {
     "end_time": "2025-01-23T23:26:44.785855Z",
     "start_time": "2025-01-23T23:26:44.764673Z"
    }
   },
   "outputs": [],
   "source": [
    "def SVMClassifier(**hyperparams):\n",
    "    return make_pipeline(StandardScaler(), SVC(**hyperparams))"
   ]
  },
  {
   "cell_type": "code",
   "execution_count": 3,
   "metadata": {
    "ExecuteTime": {
     "end_time": "2025-01-23T23:26:45.664605Z",
     "start_time": "2025-01-23T23:26:45.649646Z"
    }
   },
   "outputs": [],
   "source": [
    "class TabRClassifier(TabRClassifier_):\n",
    "    def __init__(self, **kwargs):\n",
    "        # selection_function_name=\"sparsemax\",\n",
    "        # context_dropout=0.5,\n",
    "        # context_sample_size=2000,\n",
    "        # num_embeddings={\"type\": \"PLREmbeddings\", \"n_frequencies\": 32, \"frequency_scale\": 32, \"d_embedding\": 32, \"lite\": False},\n",
    "        super().__init__(**kwargs)\n",
    "        self.type_embeddings=\"one-hot\"\n",
    "        self.device_name=\"cuda\"\n",
    "        self.optimizer_params={\"lr\": 2e-4}\n",
    "        \n",
    "    def fit(\n",
    "        self,\n",
    "        X_train: pd.DataFrame,\n",
    "        y_train: pd.DataFrame,\n",
    "        **kwargs\n",
    "    ) -> None:\n",
    "        super().fit(X_train=X_train.values, y_train=y_train.values,\n",
    "                    max_epochs=1, batch_size=25, **kwargs)\n",
    "        \n",
    "    def predict(self, X: pd.DataFrame):\n",
    "        return super().predict(X=X.values)\n",
    "        "
   ]
  },
  {
   "cell_type": "code",
   "execution_count": 4,
   "metadata": {
    "ExecuteTime": {
     "end_time": "2025-01-23T23:26:45.773710Z",
     "start_time": "2025-01-23T23:26:45.761744Z"
    },
    "id": "r4lGdgRVRMM5"
   },
   "outputs": [],
   "source": [
    "# constants\n",
    "SEED = 42\n",
    "NUM_SPLITS = 10\n",
    "INITIAL_CUTOFF = 0.05\n",
    "TOP = 0.01\n",
    "TARGET = \"decision\"\n",
    "MODELS = [TabRClassifier, XGBClassifier, SVMClassifier, ]\n",
    "\n",
    "XGBCLASSIFIER_HYPERPARAMETERS = {\n",
    "    \"max_depth\": [3, 4, 6, 8, 10],\n",
    "    \"min_child_weight\": [1, 4, 8, 16],\n",
    "    \"eta\": [0.1, 0.3, 0.6],\n",
    "    \"subsample\": [0.5, 1],\n",
    "    \"lambda\": [0, 0.2, 1, 5, 12, 25],\n",
    "    \"alpha\": [0, 0.2, 1, 5, 12, 25],\n",
    "    \"device\": [\"cuda\"],\n",
    "}\n",
    "\n",
    "SVMCLASSIFIER_HYPERPARAMETERS = {\n",
    "    \"kernel\": ['poly', 'rbf', 'sigmoid'],\n",
    "    'degree': [1, 2, 3, 4, 6, 8, 10],\n",
    "    'C': [0.05, 0.1, 0.25, 0.5, 1, 4, 16, 64],\n",
    "    'gamma': ['auto', 0.1, 0.25, 0.5, 1, 4, 8],\n",
    "    # \"device\": [\"cuda\"],\n",
    "}\n",
    "\n",
    "TABRCLASSIFIER_HYPERPARAMETERS = {\n",
    "#    \"d_main\": [12, 36, 48, 96],\n",
    "   \"d_main\": [12, 48, 96],\n",
    "    # \"d_multiplier\": [1.2, 1.5, 2],\n",
    "    \"d_multiplier\": [1.5],\n",
    "    # \"context_dropout\":  [0, 0.5],\n",
    "    \"dropout0\":  [0, 0.5],\n",
    "    \"dropout1\":  [\"dropout0\"],\n",
    "    # \"context_size\": [12, 36, 48, 96],\n",
    "    \"context_size\": [12, 48, 96],\n",
    "    # \"encoder_n_blocks\": [1, 2],\n",
    "    \"predictor_n_blocks\": [1, 2],\n",
    "    \"seed\": [SEED],\n",
    "}\n",
    "\n",
    "HYPERPARAMETERS = {\n",
    "    XGBClassifier.__name__ : XGBCLASSIFIER_HYPERPARAMETERS,\n",
    "    SVMClassifier.__name__ : SVMCLASSIFIER_HYPERPARAMETERS,\n",
    "    TabRClassifier.__name__ : TABRCLASSIFIER_HYPERPARAMETERS\n",
    "}"
   ]
  },
  {
   "cell_type": "code",
   "execution_count": 5,
   "metadata": {
    "ExecuteTime": {
     "end_time": "2025-01-23T23:26:45.804812Z",
     "start_time": "2025-01-23T23:26:45.790667Z"
    },
    "id": "1dy8AeieTKI2"
   },
   "outputs": [],
   "source": [
    "def one_hot_encode(df, features):\n",
    "    for feature in features:\n",
    "        dummies = pd.get_dummies(df.loc[:, feature], prefix=feature)\n",
    "        df = pd.concat([df, dummies], axis=1)\n",
    "        df = df.drop(feature, axis=1)\n",
    "    return df"
   ]
  },
  {
   "cell_type": "code",
   "execution_count": 6,
   "metadata": {
    "ExecuteTime": {
     "end_time": "2025-01-23T23:26:47.049436Z",
     "start_time": "2025-01-23T23:26:45.822262Z"
    },
    "colab": {
     "base_uri": "https://localhost:8080/"
    },
    "id": "iGaslg9IB3oc",
    "outputId": "7eeb95d1-73ae-4231-9873-3c6bd3956e8e"
   },
   "outputs": [
    {
     "name": "stderr",
     "output_type": "stream",
     "text": [
      "/tmp/ipykernel_48484/1818755334.py:2: DtypeWarning: Columns (4,11,12,16,17,18,19,20,40,41,42,43,44,45,52,53,54,55,56,74,75,76,77,78,79,80,81,82,83,84,85,86,87,88,89,90,108,110) have mixed types. Specify dtype option on import or set low_memory=False.\n",
      "  dataset = pd.read_csv(\"SpeedDating.csv\", index_col=0)\n"
     ]
    },
    {
     "name": "stdout",
     "output_type": "stream",
     "text": [
      "    gender   age  age_o  importance_same_race  importance_same_religion  \\\n",
      "id                                                                        \n",
      "1      1.0  21.0   27.0                   2.0                       4.0   \n",
      "2      1.0  21.0   22.0                   2.0                       4.0   \n",
      "3      1.0  21.0   22.0                   2.0                       4.0   \n",
      "4      1.0  21.0   23.0                   2.0                       4.0   \n",
      "5      1.0  21.0   24.0                   2.0                       4.0   \n",
      "\n",
      "    pref_o_attractive  pref_o_sincere  pref_o_intelligence  pref_o_funny  \\\n",
      "id                                                                         \n",
      "1                35.0            20.0                 20.0          20.0   \n",
      "2                60.0             0.0                  0.0          40.0   \n",
      "3                19.0            18.0                 19.0          18.0   \n",
      "4                30.0             5.0                 15.0          40.0   \n",
      "5                30.0            10.0                 20.0          10.0   \n",
      "\n",
      "    pref_o_ambitious  ...  race_Black/African American  \\\n",
      "id                    ...                                \n",
      "1                0.0  ...                          0.0   \n",
      "2                0.0  ...                          0.0   \n",
      "3               14.0  ...                          0.0   \n",
      "4                5.0  ...                          0.0   \n",
      "5               10.0  ...                          0.0   \n",
      "\n",
      "    race_European/Caucasian-American  race_Latino/Hispanic American  \\\n",
      "id                                                                    \n",
      "1                                0.0                            0.0   \n",
      "2                                0.0                            0.0   \n",
      "3                                0.0                            0.0   \n",
      "4                                0.0                            0.0   \n",
      "5                                0.0                            0.0   \n",
      "\n",
      "    race_Other  race_o_?  race_o_Asian/Pacific Islander/Asian-American  \\\n",
      "id                                                                       \n",
      "1          0.0       0.0                                           0.0   \n",
      "2          0.0       0.0                                           0.0   \n",
      "3          0.0       0.0                                           1.0   \n",
      "4          0.0       0.0                                           0.0   \n",
      "5          0.0       0.0                                           0.0   \n",
      "\n",
      "    race_o_Black/African American  race_o_European/Caucasian-American  \\\n",
      "id                                                                      \n",
      "1                             0.0                                 1.0   \n",
      "2                             0.0                                 1.0   \n",
      "3                             0.0                                 0.0   \n",
      "4                             0.0                                 1.0   \n",
      "5                             0.0                                 0.0   \n",
      "\n",
      "    race_o_Latino/Hispanic American  race_o_Other  \n",
      "id                                                 \n",
      "1                               0.0           0.0  \n",
      "2                               0.0           0.0  \n",
      "3                               0.0           0.0  \n",
      "4                               0.0           0.0  \n",
      "5                               1.0           0.0  \n",
      "\n",
      "[5 rows x 70 columns]\n"
     ]
    }
   ],
   "source": [
    "# load dataset\n",
    "dataset = pd.read_csv(\"SpeedDating.csv\", index_col=0)\n",
    "\n",
    "# remove redundant columns\n",
    "subset = ['gender', 'age', 'age_o', 'race', 'race_o', 'importance_same_race', 'importance_same_religion',\n",
    "          'pref_o_attractive', 'pref_o_sincere', 'pref_o_intelligence',\n",
    "          'pref_o_funny', 'pref_o_ambitious', 'pref_o_shared_interests', 'attractive_o', 'sinsere_o', 'intelligence_o', 'funny_o',\n",
    "          'ambitous_o', 'shared_interests_o', 'attractive_important', 'sincere_important', 'intellicence_important', 'funny_important', 'ambtition_important',\n",
    "          'shared_interests_important', 'attractive', 'sincere', 'intelligence', 'funny', 'ambition', 'attractive_partner', 'sincere_partner',\n",
    "          'intelligence_partner', 'funny_partner', 'ambition_partner', 'shared_interests_partner',\n",
    "          'sports', 'tvsports', 'exercise', 'dining', 'museums', 'art', 'hiking', 'gaming', 'clubbing', 'reading', 'tv', 'theater', 'movies', 'concerts',\n",
    "          'music', 'shopping', 'yoga',\n",
    "          'interests_correlate', 'expected_happy_with_sd_people', 'expected_num_matches', 'expected_num_interested_in_me',\n",
    "          'like', 'guess_prob_liked', 'decision']\n",
    "\n",
    "dataset = dataset.loc[:, subset]\n",
    "dataset.loc[:, 'gender'] = (dataset.loc[:, 'gender'] == 'female') # one hot encode gender\n",
    "dataset = one_hot_encode(dataset, ['race', 'race_o'])\n",
    "dataset = dataset.apply(pd.to_numeric, errors='coerce', axis=1)\n",
    "dataset = dataset.fillna(dataset.mean())\n",
    "print(dataset.head())\n",
    "X, y = dataset.loc[:, dataset.columns != TARGET], dataset.loc[:, TARGET]\n",
    "BASELINE = np.sum(y == 1) / np.sum(y == 0)\n"
   ]
  },
  {
   "cell_type": "code",
   "execution_count": 7,
   "metadata": {
    "ExecuteTime": {
     "end_time": "2025-01-23T23:26:47.111605Z",
     "start_time": "2025-01-23T23:26:47.098503Z"
    }
   },
   "outputs": [],
   "source": [
    "def train_test_models(models, hyperparameters, X, y):\n",
    "    accuracies = {}\n",
    "    X_train, X_test, y_train, y_test = train_test_split(X, y, test_size=0.1, random_state=SEED)\n",
    "    for model_class in models:\n",
    "        model_hyperparameters = hyperparameters[model_class.__name__]\n",
    "        accuracies[model_class.__name__] = []\n",
    "        for hyperparams in tqdm(product(*model_hyperparameters.values())):\n",
    "            kwargs = dict(zip(model_hyperparameters.keys(), hyperparams))\n",
    "            if model_class.__name__ == 'SVMClassifier':\n",
    "                if kwargs['kernel'] != 'poly' and kwargs['degree'] != 3:\n",
    "                    continue\n",
    "            model = model_class(**kwargs)\n",
    "            model.fit(X_train, y_train)\n",
    "            acc = np.mean(model.predict(X_test) == np.array(y_test))\n",
    "            accuracies[model_class.__name__].append((acc, kwargs))\n",
    "    return accuracies"
   ]
  },
  {
   "cell_type": "code",
   "execution_count": 8,
   "metadata": {
    "ExecuteTime": {
     "end_time": "2025-01-23T23:26:47.175490Z",
     "start_time": "2025-01-23T23:26:47.161530Z"
    }
   },
   "outputs": [],
   "source": [
    "def cross_validate_models(models, kwargs_lists, X, y):\n",
    "    accuracies = {}\n",
    "    kf = StratifiedKFold(n_splits=NUM_SPLITS, shuffle=True, random_state=SEED)\n",
    "    for model_class in models:\n",
    "        accuracies[model_class.__name__] = []\n",
    "        for kwargs in tqdm(kwargs_lists[model_class.__name__]):\n",
    "            s=0\n",
    "            model = model_class(**kwargs)\n",
    "            for train_idx, test_idx in kf.split(X, y):\n",
    "                X_train, y_train = X.iloc[train_idx, :], y.iloc[train_idx]\n",
    "                X_test, y_test = X.iloc[test_idx, :], y.iloc[test_idx]\n",
    "                model.fit(X_train, y_train)\n",
    "                s += np.mean(model.predict(X_test) == np.array(y_test))\n",
    "            accuracies[model_class.__name__].append((s/NUM_SPLITS, kwargs))\n",
    "    return accuracies"
   ]
  },
  {
   "cell_type": "code",
   "execution_count": 9,
   "metadata": {
    "ExecuteTime": {
     "end_time": "2025-01-23T23:26:47.238248Z",
     "start_time": "2025-01-23T23:26:47.225252Z"
    }
   },
   "outputs": [],
   "source": [
    "def get_top_kwargs(models, accuracies, cutoff):\n",
    "    top_kwargs = {}\n",
    "    for model_class in models:\n",
    "        _, top_models_ = zip(*(sorted(accuracies[model_class.__name__], key=lambda x: x[0])[-int(cutoff*len(accuracies[model_class.__name__])):]))\n",
    "        top_kwargs[model_class.__name__] = list(top_models_)\n",
    "    return top_kwargs"
   ]
  },
  {
   "cell_type": "code",
   "execution_count": 10,
   "metadata": {
    "ExecuteTime": {
     "end_time": "2025-01-23T23:26:47.300300Z",
     "start_time": "2025-01-23T23:26:47.286306Z"
    }
   },
   "outputs": [],
   "source": [
    "def get_rashomon_sets(models, hyperparameters, X, y, initial_cutoff=0.05, top=0.01):\n",
    "    assert top <= initial_cutoff\n",
    "    initial_accuracies = train_test_models(models, hyperparameters, X, y)\n",
    "    filtered_kwargs_lists = get_top_kwargs(models, initial_accuracies, initial_cutoff)\n",
    "    final_accuracies = cross_validate_models(models, filtered_kwargs_lists, X, y)\n",
    "    top_kwargs = get_top_kwargs(models, final_accuracies, top/initial_cutoff)\n",
    "    return top_kwargs"
   ]
  },
  {
   "cell_type": "code",
   "execution_count": null,
   "metadata": {
    "ExecuteTime": {
     "end_time": "2025-01-23T23:28:24.005697Z",
     "start_time": "2025-01-23T23:26:47.349356Z"
    }
   },
   "outputs": [
    {
     "name": "stderr",
     "output_type": "stream",
     "text": [
      "0it [00:00, ?it/s]/home/krzaq/xai/XAI-team-project/pytorch_tabr/base_model.py:258: UserWarning: No early stopping will be performed, last training weights will be used.\n",
      "  warnings.warn(wrn_msg)\n"
     ]
    },
    {
     "data": {
      "application/vnd.jupyter.widget-view+json": {
       "model_id": "d4243240876e4078abb49786ab855361",
       "version_major": 2,
       "version_minor": 0
      },
      "text/plain": [
       " epochs:   0%|          | 0/1 [00:00<?, ?it/s]"
      ]
     },
     "metadata": {},
     "output_type": "display_data"
    },
    {
     "data": {
      "application/vnd.jupyter.widget-view+json": {
       "model_id": "5ff73bc9501f49d182ecb31b95c46a62",
       "version_major": 2,
       "version_minor": 0
      },
      "text/plain": [
       " batches:   0%|          | 0/301 [00:00<?, ?it/s]"
      ]
     },
     "metadata": {},
     "output_type": "display_data"
    },
    {
     "name": "stderr",
     "output_type": "stream",
     "text": [
      "/home/krzaq/.local/share/mamba/envs/tabr/lib/python3.9/site-packages/faiss/contrib/torch_utils.py:51: UserWarning: TypedStorage is deprecated. It will be removed in the future and UntypedStorage will be the only storage class. This should only matter to you if you are using storages directly.  To access UntypedStorage directly, use tensor.untyped_storage() instead of tensor.storage()\n",
      "  x.storage().data_ptr() + x.storage_offset() * 4)\n",
      "/home/krzaq/.local/share/mamba/envs/tabr/lib/python3.9/site-packages/faiss/contrib/torch_utils.py:65: UserWarning: TypedStorage is deprecated. It will be removed in the future and UntypedStorage will be the only storage class. This should only matter to you if you are using storages directly.  To access UntypedStorage directly, use tensor.untyped_storage() instead of tensor.storage()\n",
      "  x.storage().data_ptr() + x.storage_offset() * 8)\n",
      "1it [00:51, 51.31s/it]"
     ]
    },
    {
     "data": {
      "application/vnd.jupyter.widget-view+json": {
       "model_id": "f55eddb6175b460e864de922067c690c",
       "version_major": 2,
       "version_minor": 0
      },
      "text/plain": [
       " epochs:   0%|          | 0/1 [00:00<?, ?it/s]"
      ]
     },
     "metadata": {},
     "output_type": "display_data"
    },
    {
     "data": {
      "application/vnd.jupyter.widget-view+json": {
       "model_id": "018f462f8e644ce987781444b088c61b",
       "version_major": 2,
       "version_minor": 0
      },
      "text/plain": [
       " batches:   0%|          | 0/301 [00:00<?, ?it/s]"
      ]
     },
     "metadata": {},
     "output_type": "display_data"
    },
    {
     "name": "stdout",
     "output_type": "stream",
     "text": [
      "Training stopped. Calling callbacks...\n"
     ]
    },
    {
     "name": "stderr",
     "output_type": "stream",
     "text": [
      "2it [01:10, 32.14s/it]"
     ]
    },
    {
     "data": {
      "application/vnd.jupyter.widget-view+json": {
       "model_id": "105bd141184b40429a7e110cfecfb585",
       "version_major": 2,
       "version_minor": 0
      },
      "text/plain": [
       " epochs:   0%|          | 0/1 [00:00<?, ?it/s]"
      ]
     },
     "metadata": {},
     "output_type": "display_data"
    },
    {
     "data": {
      "application/vnd.jupyter.widget-view+json": {
       "model_id": "d0f9cfde293a495da818e9f2a94f8fc3",
       "version_major": 2,
       "version_minor": 0
      },
      "text/plain": [
       " batches:   0%|          | 0/301 [00:00<?, ?it/s]"
      ]
     },
     "metadata": {},
     "output_type": "display_data"
    }
   ],
   "source": [
    "for i in range(3):\n",
    "    rashomon_sets_params = get_rashomon_sets([MODELS[i]], HYPERPARAMETERS, X, y, INITIAL_CUTOFF, TOP)\n",
    "    pickle.dump(rashomon_sets_params, open(f'rashomon_sets_params{i}.pickle', 'wb'))"
   ]
  },
  {
   "cell_type": "code",
   "execution_count": null,
   "metadata": {},
   "outputs": [],
   "source": [
    "# rashomon_sets_params = pickle.load(open('rashomon_sets_params.pickle', 'rb'))"
   ]
  },
  {
   "cell_type": "code",
   "execution_count": null,
   "metadata": {},
   "outputs": [],
   "source": [
    "X_train, X_test, y_train, y_test = train_test_split(X, y, test_size=0.1, random_state=(SEED+1))"
   ]
  }
 ],
 "metadata": {
  "colab": {
   "provenance": []
  },
  "kernelspec": {
   "display_name": "Python 3",
   "language": "python",
   "name": "python3"
  },
  "language_info": {
   "codemirror_mode": {
    "name": "ipython",
    "version": 3
   },
   "file_extension": ".py",
   "mimetype": "text/x-python",
   "name": "python",
   "nbconvert_exporter": "python",
   "pygments_lexer": "ipython3",
   "version": "3.9.16"
  }
 },
 "nbformat": 4,
 "nbformat_minor": 0
}
