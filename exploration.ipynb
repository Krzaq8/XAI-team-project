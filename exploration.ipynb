{
 "cells": [
  {
   "cell_type": "code",
   "source": [
    "# imports\n",
    "import pandas as pd\n",
    "import numpy as np\n",
    "import torch\n",
    "from sklearn.model_selection import StratifiedKFold, train_test_split\n",
    "from xgboost import XGBClassifier\n",
    "from sklearn.pipeline import make_pipeline\n",
    "from sklearn.preprocessing import StandardScaler # To preprocess data for SVM - greatly improves performance\n",
    "from sklearn.svm import SVC\n",
    "from pytorch_tabr import TabRClassifier as TabRClassifier_\n",
    "from itertools import product\n",
    "from typing import Tuple, Union, Optional, Callable\n",
    "from tqdm import tqdm"
   ],
   "metadata": {
    "id": "mzX1wFJAONFQ",
    "ExecuteTime": {
     "end_time": "2025-01-23T18:18:14.696258Z",
     "start_time": "2025-01-23T18:18:09.661356Z"
    }
   },
   "outputs": [],
   "execution_count": 1
  },
  {
   "metadata": {
    "ExecuteTime": {
     "end_time": "2025-01-23T18:18:14.712120Z",
     "start_time": "2025-01-23T18:18:14.701204Z"
    }
   },
   "cell_type": "code",
   "source": [
    "def SVMClassifier(**hyperparams):\n",
    "    return make_pipeline(StandardScaler(), SVC(**hyperparams))"
   ],
   "outputs": [],
   "execution_count": 2
  },
  {
   "metadata": {
    "ExecuteTime": {
     "end_time": "2025-01-23T18:53:38.764260Z",
     "start_time": "2025-01-23T18:53:38.753291Z"
    }
   },
   "cell_type": "code",
   "source": [
    "class TabRClassifier(TabRClassifier_):\n",
    "    def __init__(self, **kwargs):\n",
    "        # selection_function_name=\"sparsemax\",\n",
    "        # context_dropout=0.5,\n",
    "        # context_sample_size=2000,\n",
    "        # num_embeddings={\"type\": \"PLREmbeddings\", \"n_frequencies\": 32, \"frequency_scale\": 32, \"d_embedding\": 32, \"lite\": False},\n",
    "        super().__init__(**kwargs)\n",
    "        self.type_embeddings=\"one-hot\"\n",
    "        self.device_name=\"cpu\"\n",
    "        self.optimizer_params={\"lr\": 2e-4}\n",
    "        self.d_main=48\n",
    "        self.d_multiplier = 1.5\n",
    "        self.context_dropout = 0\n",
    "        self.dropout0 = 0\n",
    "        self.dropout1 = 0\n",
    "        self.context_size = 12\n",
    "        \n",
    "    def fit(\n",
    "        self,\n",
    "        X_train: pd.DataFrame,\n",
    "        y_train: pd.DataFrame,\n",
    "        **kwargs\n",
    "    ) -> None:\n",
    "        super().fit(X_train=X_train.values, y_train=y_train.values,\n",
    "                    max_epochs=1, batch_size=25, **kwargs)\n",
    "        \n",
    "    def predict(self, X: pd.DataFrame):\n",
    "        return super().predict(X=X.values)\n",
    "        "
   ],
   "outputs": [],
   "execution_count": 21
  },
  {
   "cell_type": "code",
   "source": [
    "# constants\n",
    "SEED = 42\n",
    "NUM_SPLITS = 10\n",
    "TARGET = \"decision\"\n",
    "MODELS = [XGBClassifier, SVMClassifier, TabRClassifier]\n",
    "\n",
    "# XGBCLASSIFIER_HYPERPARAMETERS = {\n",
    "#     \"max_depth\": [3, 4, 5, 6, 7, 8],\n",
    "#     \"min_child_weight\": [1, 4, 8, 16],\n",
    "# }\n",
    "\n",
    "XGBCLASSIFIER_HYPERPARAMETERS = {\n",
    "    \"max_depth\": [3, 4],\n",
    "    \"min_child_weight\": [1, 4],\n",
    "}\n",
    "\n",
    "SVMCLASSIFIER_HYPERPARAMETERS = {\n",
    "    \n",
    "}\n",
    "\n",
    "TABRCLASSIFIER_HYPERPARAMETERS = {\n",
    "   \n",
    "}\n",
    "\n",
    "HYPERPARAMETERS = {\n",
    "    XGBClassifier.__name__ : XGBCLASSIFIER_HYPERPARAMETERS,\n",
    "    SVMClassifier.__name__ : SVMCLASSIFIER_HYPERPARAMETERS,\n",
    "    TabRClassifier.__name__ : TABRCLASSIFIER_HYPERPARAMETERS\n",
    "}"
   ],
   "metadata": {
    "id": "r4lGdgRVRMM5",
    "ExecuteTime": {
     "end_time": "2025-01-23T18:18:15.055386Z",
     "start_time": "2025-01-23T18:18:15.043417Z"
    }
   },
   "outputs": [],
   "execution_count": 4
  },
  {
   "cell_type": "code",
   "source": [
    "def one_hot_encode(df, features):\n",
    "    for feature in features:\n",
    "        dummies = pd.get_dummies(df.loc[:, feature], prefix=feature)\n",
    "        df = pd.concat([df, dummies], axis=1)\n",
    "        df = df.drop(feature, axis=1)\n",
    "    return df"
   ],
   "metadata": {
    "id": "1dy8AeieTKI2",
    "ExecuteTime": {
     "end_time": "2025-01-23T18:18:15.086580Z",
     "start_time": "2025-01-23T18:18:15.073207Z"
    }
   },
   "outputs": [],
   "execution_count": 5
  },
  {
   "cell_type": "code",
   "metadata": {
    "colab": {
     "base_uri": "https://localhost:8080/"
    },
    "id": "iGaslg9IB3oc",
    "outputId": "7eeb95d1-73ae-4231-9873-3c6bd3956e8e",
    "ExecuteTime": {
     "end_time": "2025-01-23T18:18:16.298737Z",
     "start_time": "2025-01-23T18:18:15.107766Z"
    }
   },
   "source": [
    "# load dataset\n",
    "dataset = pd.read_csv(\"SpeedDating.csv\", index_col=0)\n",
    "\n",
    "# remove redundant columns\n",
    "subset = ['gender', 'age', 'age_o', 'race', 'race_o', 'importance_same_race', 'importance_same_religion',\n",
    "          'pref_o_attractive', 'pref_o_sincere', 'pref_o_intelligence',\n",
    "          'pref_o_funny', 'pref_o_ambitious', 'pref_o_shared_interests', 'attractive_o', 'sinsere_o', 'intelligence_o', 'funny_o',\n",
    "          'ambitous_o', 'shared_interests_o', 'attractive_important', 'sincere_important', 'intellicence_important', 'funny_important', 'ambtition_important',\n",
    "          'shared_interests_important', 'attractive', 'sincere', 'intelligence', 'funny', 'ambition', 'attractive_partner', 'sincere_partner',\n",
    "          'intelligence_partner', 'funny_partner', 'ambition_partner', 'shared_interests_partner',\n",
    "          'sports', 'tvsports', 'exercise', 'dining', 'museums', 'art', 'hiking', 'gaming', 'clubbing', 'reading', 'tv', 'theater', 'movies', 'concerts',\n",
    "          'music', 'shopping', 'yoga',\n",
    "          'interests_correlate', 'expected_happy_with_sd_people', 'expected_num_matches', 'expected_num_interested_in_me',\n",
    "          'like', 'guess_prob_liked', 'decision']\n",
    "\n",
    "dataset = dataset.loc[:, subset]\n",
    "dataset.loc[:, 'gender'] = (dataset.loc[:, 'gender'] == 'female') # one hot encode gender\n",
    "dataset = one_hot_encode(dataset, ['race', 'race_o'])\n",
    "dataset = dataset.apply(pd.to_numeric, errors='coerce', axis=1)\n",
    "dataset = dataset.fillna(dataset.mean())\n",
    "print(dataset.head())\n",
    "X, y = dataset.loc[:, dataset.columns != TARGET], dataset.loc[:, TARGET]\n",
    "BASELINE = np.sum(y == 1) / np.sum(y == 0)\n"
   ],
   "outputs": [
    {
     "name": "stderr",
     "output_type": "stream",
     "text": [
      "C:\\Users\\mracz\\AppData\\Local\\Temp\\ipykernel_25688\\3974884003.py:2: DtypeWarning: Columns (4,11,12,16,17,18,19,20,40,41,42,43,44,45,52,53,54,55,56,74,75,76,77,78,79,80,81,82,83,84,85,86,87,88,89,90,108,110) have mixed types. Specify dtype option on import or set low_memory=False.\n",
      "  dataset = pd.read_csv(\"SpeedDating.csv\", index_col=0)\n"
     ]
    },
    {
     "name": "stdout",
     "output_type": "stream",
     "text": [
      "    gender   age  age_o  importance_same_race  importance_same_religion  \\\n",
      "id                                                                        \n",
      "1      1.0  21.0   27.0                   2.0                       4.0   \n",
      "2      1.0  21.0   22.0                   2.0                       4.0   \n",
      "3      1.0  21.0   22.0                   2.0                       4.0   \n",
      "4      1.0  21.0   23.0                   2.0                       4.0   \n",
      "5      1.0  21.0   24.0                   2.0                       4.0   \n",
      "\n",
      "    pref_o_attractive  pref_o_sincere  pref_o_intelligence  pref_o_funny  \\\n",
      "id                                                                         \n",
      "1                35.0            20.0                 20.0          20.0   \n",
      "2                60.0             0.0                  0.0          40.0   \n",
      "3                19.0            18.0                 19.0          18.0   \n",
      "4                30.0             5.0                 15.0          40.0   \n",
      "5                30.0            10.0                 20.0          10.0   \n",
      "\n",
      "    pref_o_ambitious  ...  race_Black/African American  \\\n",
      "id                    ...                                \n",
      "1                0.0  ...                          0.0   \n",
      "2                0.0  ...                          0.0   \n",
      "3               14.0  ...                          0.0   \n",
      "4                5.0  ...                          0.0   \n",
      "5               10.0  ...                          0.0   \n",
      "\n",
      "    race_European/Caucasian-American  race_Latino/Hispanic American  \\\n",
      "id                                                                    \n",
      "1                                0.0                            0.0   \n",
      "2                                0.0                            0.0   \n",
      "3                                0.0                            0.0   \n",
      "4                                0.0                            0.0   \n",
      "5                                0.0                            0.0   \n",
      "\n",
      "    race_Other  race_o_?  race_o_Asian/Pacific Islander/Asian-American  \\\n",
      "id                                                                       \n",
      "1          0.0       0.0                                           0.0   \n",
      "2          0.0       0.0                                           0.0   \n",
      "3          0.0       0.0                                           1.0   \n",
      "4          0.0       0.0                                           0.0   \n",
      "5          0.0       0.0                                           0.0   \n",
      "\n",
      "    race_o_Black/African American  race_o_European/Caucasian-American  \\\n",
      "id                                                                      \n",
      "1                             0.0                                 1.0   \n",
      "2                             0.0                                 1.0   \n",
      "3                             0.0                                 0.0   \n",
      "4                             0.0                                 1.0   \n",
      "5                             0.0                                 0.0   \n",
      "\n",
      "    race_o_Latino/Hispanic American  race_o_Other  \n",
      "id                                                 \n",
      "1                               0.0           0.0  \n",
      "2                               0.0           0.0  \n",
      "3                               0.0           0.0  \n",
      "4                               0.0           0.0  \n",
      "5                               1.0           0.0  \n",
      "\n",
      "[5 rows x 70 columns]\n"
     ]
    }
   ],
   "execution_count": 6
  },
  {
   "metadata": {
    "ExecuteTime": {
     "end_time": "2025-01-23T18:18:16.362404Z",
     "start_time": "2025-01-23T18:18:16.348354Z"
    }
   },
   "cell_type": "code",
   "source": [
    "def train_test_models(models, hyperparameters, X, y, ret_trained_models=False):\n",
    "    trained_models = {}\n",
    "    accuracies = {}\n",
    "    kf = StratifiedKFold(n_splits=NUM_SPLITS, shuffle=True, random_state=SEED)\n",
    "    for model_class in models:\n",
    "        model_hyperparameters = hyperparameters[model_class.__name__]\n",
    "        for hyperparams in product(*model_hyperparameters.values()):\n",
    "            s=0\n",
    "            kwargs = dict(zip(model_hyperparameters.keys(), hyperparams))\n",
    "            model = model_class(**kwargs)\n",
    "            for train_idx, test_idx in kf.split(X, y):\n",
    "                X_train, y_train = X.iloc[train_idx, :], y.iloc[train_idx]\n",
    "                X_test, y_test = X.iloc[test_idx, :], y.iloc[test_idx]\n",
    "                model.fit(X_train, y_train)\n",
    "                s += np.mean(model.predict(X_test) == np.array(y_test))\n",
    "            if ret_trained_models:\n",
    "                trained_models[model_class.__name__, hyperparams] = model\n",
    "            accuracies[model_class.__name__, hyperparams] = s/NUM_SPLITS\n",
    "    return accuracies, trained_models if ret_trained_models else accuracies"
   ],
   "outputs": [],
   "execution_count": 7
  },
  {
   "metadata": {
    "ExecuteTime": {
     "end_time": "2025-01-23T18:56:45.295695Z",
     "start_time": "2025-01-23T18:53:44.811957Z"
    }
   },
   "cell_type": "code",
   "source": "train_test_models([TabRClassifier], HYPERPARAMETERS, X, y, ret_trained_models=True)",
   "outputs": [
    {
     "name": "stderr",
     "output_type": "stream",
     "text": [
      "C:\\Users\\mracz\\Documents\\ML\\XAI-team-project\\pytorch_tabr\\base_model.py:258: UserWarning: No early stopping will be performed, last training weights will be used.\n",
      "  warnings.warn(wrn_msg)\n"
     ]
    },
    {
     "data": {
      "text/plain": [
       " epochs:   0%|          | 0/1 [00:00<?, ?it/s]"
      ],
      "application/vnd.jupyter.widget-view+json": {
       "version_major": 2,
       "version_minor": 0,
       "model_id": "b5de643a7f154484a1ae36dd5e9dfeb2"
      }
     },
     "metadata": {},
     "output_type": "display_data"
    },
    {
     "data": {
      "text/plain": [
       " batches:   0%|          | 0/301 [00:00<?, ?it/s]"
      ],
      "application/vnd.jupyter.widget-view+json": {
       "version_major": 2,
       "version_minor": 0,
       "model_id": "e9c27ac9abac4874a66949bdaec87102"
      }
     },
     "metadata": {},
     "output_type": "display_data"
    },
    {
     "data": {
      "text/plain": [
       " epochs:   0%|          | 0/1 [00:00<?, ?it/s]"
      ],
      "application/vnd.jupyter.widget-view+json": {
       "version_major": 2,
       "version_minor": 0,
       "model_id": "54382a3f058148369f946ee437406401"
      }
     },
     "metadata": {},
     "output_type": "display_data"
    },
    {
     "data": {
      "text/plain": [
       " batches:   0%|          | 0/301 [00:00<?, ?it/s]"
      ],
      "application/vnd.jupyter.widget-view+json": {
       "version_major": 2,
       "version_minor": 0,
       "model_id": "6bb76fbfd19646d1bcd79b9d8f927eba"
      }
     },
     "metadata": {},
     "output_type": "display_data"
    },
    {
     "data": {
      "text/plain": [
       " epochs:   0%|          | 0/1 [00:00<?, ?it/s]"
      ],
      "application/vnd.jupyter.widget-view+json": {
       "version_major": 2,
       "version_minor": 0,
       "model_id": "8e3b7bd5285d49afa4fbf7b0c334a4df"
      }
     },
     "metadata": {},
     "output_type": "display_data"
    },
    {
     "data": {
      "text/plain": [
       " batches:   0%|          | 0/301 [00:00<?, ?it/s]"
      ],
      "application/vnd.jupyter.widget-view+json": {
       "version_major": 2,
       "version_minor": 0,
       "model_id": "52c1c8910eab4fc2b3d4d9239a6fa9d1"
      }
     },
     "metadata": {},
     "output_type": "display_data"
    },
    {
     "data": {
      "text/plain": [
       " epochs:   0%|          | 0/1 [00:00<?, ?it/s]"
      ],
      "application/vnd.jupyter.widget-view+json": {
       "version_major": 2,
       "version_minor": 0,
       "model_id": "6cadea01e5a245878be34d8bb653c54e"
      }
     },
     "metadata": {},
     "output_type": "display_data"
    },
    {
     "data": {
      "text/plain": [
       " batches:   0%|          | 0/301 [00:00<?, ?it/s]"
      ],
      "application/vnd.jupyter.widget-view+json": {
       "version_major": 2,
       "version_minor": 0,
       "model_id": "afdbcb81457b40a08004cb85b681966c"
      }
     },
     "metadata": {},
     "output_type": "display_data"
    },
    {
     "data": {
      "text/plain": [
       " epochs:   0%|          | 0/1 [00:00<?, ?it/s]"
      ],
      "application/vnd.jupyter.widget-view+json": {
       "version_major": 2,
       "version_minor": 0,
       "model_id": "884e55a3b0474928b4392cdb16a65fe3"
      }
     },
     "metadata": {},
     "output_type": "display_data"
    },
    {
     "data": {
      "text/plain": [
       " batches:   0%|          | 0/301 [00:00<?, ?it/s]"
      ],
      "application/vnd.jupyter.widget-view+json": {
       "version_major": 2,
       "version_minor": 0,
       "model_id": "1e45df1e9ca2493da7782fdeb1edf3da"
      }
     },
     "metadata": {},
     "output_type": "display_data"
    },
    {
     "data": {
      "text/plain": [
       " epochs:   0%|          | 0/1 [00:00<?, ?it/s]"
      ],
      "application/vnd.jupyter.widget-view+json": {
       "version_major": 2,
       "version_minor": 0,
       "model_id": "a784f39db85c4eb08879c5a43c679362"
      }
     },
     "metadata": {},
     "output_type": "display_data"
    },
    {
     "data": {
      "text/plain": [
       " batches:   0%|          | 0/301 [00:00<?, ?it/s]"
      ],
      "application/vnd.jupyter.widget-view+json": {
       "version_major": 2,
       "version_minor": 0,
       "model_id": "86261db6c36944c7be54f4626fd10348"
      }
     },
     "metadata": {},
     "output_type": "display_data"
    },
    {
     "data": {
      "text/plain": [
       " epochs:   0%|          | 0/1 [00:00<?, ?it/s]"
      ],
      "application/vnd.jupyter.widget-view+json": {
       "version_major": 2,
       "version_minor": 0,
       "model_id": "14ff96176ab940db8a5f6f1865414ad7"
      }
     },
     "metadata": {},
     "output_type": "display_data"
    },
    {
     "data": {
      "text/plain": [
       " batches:   0%|          | 0/301 [00:00<?, ?it/s]"
      ],
      "application/vnd.jupyter.widget-view+json": {
       "version_major": 2,
       "version_minor": 0,
       "model_id": "f61475da776340c7ba0211f8295e5b9b"
      }
     },
     "metadata": {},
     "output_type": "display_data"
    },
    {
     "data": {
      "text/plain": [
       " epochs:   0%|          | 0/1 [00:00<?, ?it/s]"
      ],
      "application/vnd.jupyter.widget-view+json": {
       "version_major": 2,
       "version_minor": 0,
       "model_id": "c715ca2e5edd48eebdb61119d67d2e28"
      }
     },
     "metadata": {},
     "output_type": "display_data"
    },
    {
     "data": {
      "text/plain": [
       " batches:   0%|          | 0/301 [00:00<?, ?it/s]"
      ],
      "application/vnd.jupyter.widget-view+json": {
       "version_major": 2,
       "version_minor": 0,
       "model_id": "2456de63957f4cf29e63ed0713842aab"
      }
     },
     "metadata": {},
     "output_type": "display_data"
    },
    {
     "data": {
      "text/plain": [
       " epochs:   0%|          | 0/1 [00:00<?, ?it/s]"
      ],
      "application/vnd.jupyter.widget-view+json": {
       "version_major": 2,
       "version_minor": 0,
       "model_id": "99b7587d50374a748193dbee1fa3d244"
      }
     },
     "metadata": {},
     "output_type": "display_data"
    },
    {
     "data": {
      "text/plain": [
       " batches:   0%|          | 0/301 [00:00<?, ?it/s]"
      ],
      "application/vnd.jupyter.widget-view+json": {
       "version_major": 2,
       "version_minor": 0,
       "model_id": "b6bb52e860614a05aaa21c539654c807"
      }
     },
     "metadata": {},
     "output_type": "display_data"
    },
    {
     "data": {
      "text/plain": [
       " epochs:   0%|          | 0/1 [00:00<?, ?it/s]"
      ],
      "application/vnd.jupyter.widget-view+json": {
       "version_major": 2,
       "version_minor": 0,
       "model_id": "b328492169394f268a15d02a15598e08"
      }
     },
     "metadata": {},
     "output_type": "display_data"
    },
    {
     "data": {
      "text/plain": [
       " batches:   0%|          | 0/301 [00:00<?, ?it/s]"
      ],
      "application/vnd.jupyter.widget-view+json": {
       "version_major": 2,
       "version_minor": 0,
       "model_id": "01588abd037b46259da66f8fd3c15821"
      }
     },
     "metadata": {},
     "output_type": "display_data"
    },
    {
     "data": {
      "text/plain": [
       "({('TabRClassifier', ()): 0.7504111741273954},\n",
       " {('TabRClassifier',\n",
       "   ()): TabRClassifier(cat_indices=[], cat_cardinalities=[], bin_indices=[], num_embeddings=None, type_embeddings='one-hot', cat_emb_dims=2, d_main=48, d_multiplier=1.5, encoder_n_blocks=2, predictor_n_blocks=2, mixer_normalization='auto', context_dropout=0, dropout0=0, dropout1=0, normalization='LayerNorm', activation='ReLU', device_name='cpu', optimizer_fn=<class 'torch.optim.adam.Adam'>, optimizer_params={'lr': 0.0002}, scheduler_fn=None, scheduler_params={}, context_size=12, context_sample_size=None, memory_efficient=False, candidate_encoding_batch_size=None, selection_function_name='softmax', seed=0, verbose=0)})"
      ]
     },
     "execution_count": 22,
     "metadata": {},
     "output_type": "execute_result"
    }
   ],
   "execution_count": 22
  },
  {
   "metadata": {
    "ExecuteTime": {
     "end_time": "2025-01-23T18:28:09.838066Z",
     "start_time": "2025-01-23T18:28:09.828094Z"
    }
   },
   "cell_type": "code",
   "source": [
    "# Train and test the model\n",
    "# kf = StratifiedKFold(n_splits=NUM_SPLITS, shuffle=True, random_state=SEED)\n",
    "# svm_classifier = make_pipeline(StandardScaler(), SVC())\n",
    "# s=0\n",
    "# for train_idx, test_idx in kf.split(X, y):\n",
    "#     X_train, y_train = X.iloc[train_idx, :], y.iloc[train_idx]\n",
    "#     X_test, y_test = X.iloc[test_idx, :], y.iloc[test_idx]\n",
    "#     svm_classifier.fit(X_train, y_train)\n",
    "#     print('Split accuracy: ', np.mean(svm_classifier.predict(X_test) == np.array(y_test)))\n",
    "#     s += np.mean(svm_classifier.predict(X_test) == np.array(y_test))\n",
    "#     print('Accuracy for class 1 [person wanted to match]', np.sum( np.logical_and(svm_classifier.predict(X_test) == 1, svm_classifier.predict(X_test) == y_test))/np.sum(y_test))\n",
    "# print('Average accuracy:')\n",
    "# print(s/NUM_SPLITS)"
   ],
   "outputs": [],
   "execution_count": 9
  },
  {
   "cell_type": "code",
   "source": [
    "# Train and test the model\n",
    "# kf = StratifiedKFold(n_splits=NUM_SPLITS, shuffle=True, random_state=SEED)\n",
    "# xgboost = XGBClassifier(max_depth=4)\n",
    "# s=0\n",
    "# for train_idx, test_idx in kf.split(X, y):\n",
    "#     X_train, y_train = X.iloc[train_idx, :], y.iloc[train_idx]\n",
    "#     X_test, y_test = X.iloc[test_idx, :], y.iloc[test_idx]\n",
    "#     xgboost.fit(X_train, y_train)\n",
    "#     print('Split accuracy: ', np.mean(xgboost.predict(X_test) == np.array(y_test)))\n",
    "#     s += np.mean(xgboost.predict(X_test) == np.array(y_test))\n",
    "#     print('Accuracy for class 1 [person wanted to match]', np.sum( np.logical_and(xgboost.predict(X_test) == 1, xgboost.predict(X_test) == y_test))/np.sum(y_test))\n",
    "# print('Average accuracy:')\n",
    "# print(s/NUM_SPLITS)"
   ],
   "metadata": {
    "colab": {
     "base_uri": "https://localhost:8080/"
    },
    "id": "rQ4qjuXWVooN",
    "outputId": "57b88f4f-f199-4adb-b77d-d6ab90dc5f8d",
    "ExecuteTime": {
     "end_time": "2025-01-23T18:28:09.900462Z",
     "start_time": "2025-01-23T18:28:09.887265Z"
    }
   },
   "outputs": [],
   "execution_count": 10
  }
 ],
 "metadata": {
  "kernelspec": {
   "display_name": ".venv",
   "language": "python",
   "name": "python3"
  },
  "language_info": {
   "codemirror_mode": {
    "name": "ipython",
    "version": 3
   },
   "file_extension": ".py",
   "mimetype": "text/x-python",
   "name": "python",
   "nbconvert_exporter": "python",
   "pygments_lexer": "ipython3",
   "version": "3.10.12"
  },
  "colab": {
   "provenance": []
  }
 },
 "nbformat": 4,
 "nbformat_minor": 0
}
