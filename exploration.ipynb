{
 "cells": [
  {
   "cell_type": "markdown",
   "metadata": {},
   "source": [
    "# Importing from modules"
   ]
  },
  {
   "cell_type": "code",
   "execution_count": 1,
   "metadata": {
    "ExecuteTime": {
     "end_time": "2025-02-01T18:21:26.246869Z",
     "start_time": "2025-02-01T18:21:18.472339Z"
    },
    "id": "mzX1wFJAONFQ"
   },
   "outputs": [],
   "source": [
    "# imports\n",
    "import pickle\n",
    "import pandas as pd\n",
    "import numpy as np\n",
    "import torch\n",
    "from sklearn.model_selection import StratifiedKFold, train_test_split\n",
    "import lime\n",
    "import lime.lime_tabular\n",
    "import shap\n",
    "from sklearn.inspection import permutation_importance\n",
    "from typing import Tuple, Union, Optional, Callable\n",
    "import matplotlib.pyplot as plt\n",
    "from tqdm import tqdm\n",
    "import warnings\n",
    "from importlib import reload\n",
    "import data_utils\n",
    "import models\n",
    "import training_and_selection"
   ]
  },
  {
   "cell_type": "code",
   "execution_count": 2,
   "metadata": {},
   "outputs": [
    {
     "name": "stderr",
     "output_type": "stream",
     "text": [
      "/home/krzaq/xai/XAI-team-project/data_utils.py:31: DtypeWarning: Columns (4,11,12,16,17,18,19,20,40,41,42,43,44,45,52,53,54,55,56,74,75,76,77,78,79,80,81,82,83,84,85,86,87,88,89,90,108,110) have mixed types. Specify dtype option on import or set low_memory=False.\n",
      "  dataset = pd.read_csv(\"SpeedDating.csv\", index_col=0)\n"
     ]
    }
   ],
   "source": [
    "reload(data_utils)\n",
    "from data_utils import get_dataset\n",
    "\n",
    "X, y = get_dataset()\n",
    "BASELINE = np.sum(y == 1) / np.sum(y == 0)"
   ]
  },
  {
   "cell_type": "code",
   "execution_count": 3,
   "metadata": {},
   "outputs": [],
   "source": [
    "reload(models)\n",
    "from models import DEVICE, TabRClassifier, SVMClassifier\n",
    "from xgboost import XGBClassifier"
   ]
  },
  {
   "cell_type": "code",
   "execution_count": 4,
   "metadata": {
    "ExecuteTime": {
     "end_time": "2025-02-01T18:21:32.052542Z",
     "start_time": "2025-02-01T18:21:32.041573Z"
    },
    "id": "r4lGdgRVRMM5"
   },
   "outputs": [],
   "source": [
    "# constants\n",
    "SEED = 42\n",
    "NUM_SPLITS = 5\n",
    "INITIAL_CUTOFF = 0.75\n",
    "TOP = 0.5\n",
    "TARGET = \"decision\"\n",
    "MODELS = [SVMClassifier, TabRClassifier, XGBClassifier]\n",
    "MODEL_ACCURACIES_PATH = 'model_accuracies.csv'\n",
    "FILTERED_MODEL_ACCURACIES_PATH = 'filtered_model_accuracies.csv'\n",
    "TIME_LIMIT = 20\n",
    "TIME_LIMIT_CROSS_VALIDATION = 20\n",
    "\n",
    "XGBCLASSIFIER_HYPERPARAMETERS = {\n",
    "    \"max_depth\": [3, 6],\n",
    "    \"min_child_weight\": [1, 4],\n",
    "}\n",
    "\n",
    "SVMCLASSIFIER_HYPERPARAMETERS = {\n",
    "    \"kernel\": ['poly'],\n",
    "    'degree': [1, 2]\n",
    "    # \"device\": [\"cuda\"],\n",
    "}\n",
    "\n",
    "TABRCLASSIFIER_HYPERPARAMETERS = {\n",
    "   \"d_main\": [12, 36],\n",
    "    \"d_multiplier\": [1.5, 2],\n",
    "    \"seed\": [SEED]\n",
    "}\n",
    "\n",
    "HYPERPARAMETERS = {\n",
    "    XGBClassifier.__name__ : XGBCLASSIFIER_HYPERPARAMETERS,\n",
    "    SVMClassifier.__name__ : SVMCLASSIFIER_HYPERPARAMETERS,\n",
    "    TabRClassifier.__name__ : TABRCLASSIFIER_HYPERPARAMETERS\n",
    "}"
   ]
  },
  {
   "cell_type": "code",
   "execution_count": null,
   "metadata": {
    "ExecuteTime": {
     "end_time": "2025-02-01T18:22:14.536370Z",
     "start_time": "2025-02-01T18:21:56.795645Z"
    }
   },
   "outputs": [],
   "source": [
    "reload(training_and_selection)\n",
    "from training_and_selection import get_rashomon_sets\n",
    "\n",
    "rashomon_sets_params = get_rashomon_sets(MODELS, HYPERPARAMETERS, X, y, INITIAL_CUTOFF, TOP)\n",
    "pickle.dump(rashomon_sets_params, open('rashomon_sets_params.pickle', 'wb'))"
   ]
  },
  {
   "cell_type": "markdown",
   "metadata": {},
   "source": [
    "# XAI things"
   ]
  },
  {
   "cell_type": "code",
   "execution_count": null,
   "metadata": {},
   "outputs": [],
   "source": [
    "# rashomon_sets_params = pickle.load(open('rashomon_sets_params.pickle', 'rb'))"
   ]
  },
  {
   "cell_type": "code",
   "execution_count": null,
   "metadata": {},
   "outputs": [],
   "source": [
    "X_train, X_test, y_train, y_test = train_test_split(X, y, test_size=0.1, random_state=(SEED+1))\n",
    "rashomon_sets = {}\n",
    "rashomon_sets_acc_lower_bounds = {}\n",
    "accuracies = {}\n",
    "for model_class in MODELS:\n",
    "    rashomon_sets[model_class.__name__] = []\n",
    "    accuracies[model_class.__name__] = []\n",
    "    for kwargs in rashomon_sets_params[model_class.__name__]:\n",
    "        if model_class.__name__ == 'SVMClassifier':\n",
    "            model = model_class(probability=True, **kwargs)\n",
    "        else:\n",
    "            model = model_class(**kwargs)\n",
    "        model.fit(X_train, y_train)\n",
    "        acc = np.mean(model.predict(X_test) == np.array(y_test))\n",
    "        accuracies[model_class.__name__].append(acc)\n",
    "        rashomon_sets[model_class.__name__].append(model)\n",
    "    rashomon_sets_acc_lower_bounds[model_class.__name__] = min(accuracies[model_class.__name__])"
   ]
  },
  {
   "cell_type": "code",
   "execution_count": null,
   "metadata": {},
   "outputs": [],
   "source": [
    "# Compare accuracies for different Rashomon sets\n",
    "plt.figure(figsize=(16, 8))\n",
    "plt.title(\"Rashomon set accuracy comparison between different model classes\")\n",
    "plt.axhline(BASELINE, color='black', linestyle='--', linewidth=1, label='baseline')\n",
    "plt.xlabel('model class')\n",
    "plt.ylabel('accuracy')\n",
    "plt.boxplot([accuracies[model_class.__name__] for model_class in MODELS])\n",
    "plt.xticks(np.arange(1, 1+len(MODELS)), [model_class.__name__ for model_class in MODELS])\n",
    "plt.legend()"
   ]
  },
  {
   "cell_type": "code",
   "execution_count": null,
   "metadata": {},
   "outputs": [],
   "source": [
    "INDICES = [42, 123, 314]\n",
    "RANDOM_SAMPLES = [X_test.iloc[i, :] for i in INDICES]"
   ]
  },
  {
   "cell_type": "code",
   "execution_count": null,
   "metadata": {},
   "outputs": [],
   "source": [
    "# Permutation feature importance\n",
    "\n",
    "with warnings.catch_warnings():\n",
    "    warnings.simplefilter(\"ignore\")\n",
    "    for model_class in MODELS:\n",
    "        for model in rashomon_sets[model_class.__name__]:\n",
    "            importances = permutation_importance(model, X_test, y_test,\n",
    "                           n_repeats=1,\n",
    "                           random_state=SEED,\n",
    "                            scoring=\"accuracy\")\n",
    "            importances = pd.Series(importances['importances'][:, 0], index=list(X.columns))\n",
    "            fig, ax = plt.subplots()\n",
    "            importances.plot.bar(ax=ax)\n",
    "            ax.set_title(\"Permutation feature importances\")\n",
    "            ax.set_ylabel(\"importance\")\n",
    "            fig.tight_layout()"
   ]
  },
  {
   "cell_type": "code",
   "execution_count": null,
   "metadata": {},
   "outputs": [],
   "source": [
    "for model_class in MODELS:\n",
    "    print(len(rashomon_sets[model_class.__name__]))"
   ]
  },
  {
   "cell_type": "code",
   "execution_count": null,
   "metadata": {},
   "outputs": [],
   "source": [
    "# LIME\n",
    "with warnings.catch_warnings():\n",
    "    warnings.simplefilter(\"ignore\")\n",
    "    categorical_features = [0, 3, 4, -1]\n",
    "    lime_explainer = lime.lime_tabular.LimeTabularExplainer(X.to_numpy(), categorical_features=categorical_features, feature_names=list(X.columns), class_names=['negative', 'positive'])\n",
    "    for model_class in MODELS:\n",
    "        for model in rashomon_sets[model_class.__name__]:\n",
    "            explaination = lime_explainer.explain_instance(X_test.iloc[SEED, :], model.predict_proba, num_features=5)\n",
    "            fig = explaination.as_pyplot_figure()\n",
    "            plt.plot()\n"
   ]
  },
  {
   "cell_type": "code",
   "execution_count": null,
   "metadata": {},
   "outputs": [],
   "source": [
    "# Shap\n",
    "i = 0\n",
    "with warnings.catch_warnings():\n",
    "    warnings.simplefilter(\"ignore\")\n",
    "    for model_class in MODELS:\n",
    "        for model in rashomon_sets[model_class.__name__]:\n",
    "            i += 1\n",
    "            if i <= 4:\n",
    "                continue\n",
    "            # if hasattr(model, \"feature_names_in_\"):\n",
    "            # model.fit(X_train.values, y_train.values)\n",
    "            print(type(X_train.iloc[:100, :]))\n",
    "            shap_explainer = shap.KernelExplainer(model.predict, X_train.iloc[:100, :].to_numpy(), feature_names=list(X.columns))\n",
    "            explaination = shap_explainer(X_test.iloc[[SEED], :])\n",
    "            shap_values = explaination.values\n",
    "            shap.plots.beeswarm(explaination)\n",
    "            plt.plot()\n"
   ]
  },
  {
   "cell_type": "code",
   "execution_count": null,
   "metadata": {},
   "outputs": [],
   "source": []
  },
  {
   "cell_type": "code",
   "execution_count": null,
   "metadata": {},
   "outputs": [],
   "source": []
  }
 ],
 "metadata": {
  "colab": {
   "provenance": []
  },
  "kernelspec": {
   "display_name": "Python 3",
   "language": "python",
   "name": "python3"
  },
  "language_info": {
   "codemirror_mode": {
    "name": "ipython",
    "version": 3
   },
   "file_extension": ".py",
   "mimetype": "text/x-python",
   "name": "python",
   "nbconvert_exporter": "python",
   "pygments_lexer": "ipython3",
   "version": "3.9.16"
  }
 },
 "nbformat": 4,
 "nbformat_minor": 0
}
