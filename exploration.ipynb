{
 "cells": [
  {
   "cell_type": "code",
   "source": [
    "# imports\n",
    "import pandas as pd\n",
    "import numpy as np\n",
    "import torch\n",
    "from sklearn.model_selection import StratifiedKFold, train_test_split\n",
    "from xgboost import XGBClassifier\n",
    "from sklearn.pipeline import make_pipeline\n",
    "from sklearn.preprocessing import StandardScaler # To preprocess data for SVM - greatly improves performance\n",
    "from sklearn.svm import SVC\n",
    "from pytorch_tabr import TabRClassifier as TabRClassifier_\n",
    "from itertools import product\n",
    "from typing import Tuple, Union, Optional, Callable\n",
    "from tqdm import tqdm"
   ],
   "metadata": {
    "id": "mzX1wFJAONFQ",
    "ExecuteTime": {
     "end_time": "2025-01-23T21:27:19.091071Z",
     "start_time": "2025-01-23T21:27:13.228294Z"
    }
   },
   "outputs": [],
   "execution_count": 1
  },
  {
   "metadata": {
    "ExecuteTime": {
     "end_time": "2025-01-23T21:27:19.106031Z",
     "start_time": "2025-01-23T21:27:19.098055Z"
    }
   },
   "cell_type": "code",
   "source": [
    "def SVMClassifier(**hyperparams):\n",
    "    return make_pipeline(StandardScaler(), SVC(**hyperparams))"
   ],
   "outputs": [],
   "execution_count": 2
  },
  {
   "metadata": {
    "ExecuteTime": {
     "end_time": "2025-01-23T21:27:19.502469Z",
     "start_time": "2025-01-23T21:27:19.489504Z"
    }
   },
   "cell_type": "code",
   "source": [
    "class TabRClassifier(TabRClassifier_):\n",
    "    def __init__(self, **kwargs):\n",
    "        # selection_function_name=\"sparsemax\",\n",
    "        # context_dropout=0.5,\n",
    "        # context_sample_size=2000,\n",
    "        # num_embeddings={\"type\": \"PLREmbeddings\", \"n_frequencies\": 32, \"frequency_scale\": 32, \"d_embedding\": 32, \"lite\": False},\n",
    "        super().__init__(**kwargs)\n",
    "        self.type_embeddings=\"one-hot\"\n",
    "        self.device_name=\"cpu\"\n",
    "        self.optimizer_params={\"lr\": 2e-4}\n",
    "        self.d_main=48\n",
    "        self.d_multiplier = 1.5\n",
    "        self.context_dropout = 0\n",
    "        self.dropout0 = 0\n",
    "        self.dropout1 = 0\n",
    "        self.context_size = 12\n",
    "        \n",
    "    def fit(\n",
    "        self,\n",
    "        X_train: pd.DataFrame,\n",
    "        y_train: pd.DataFrame,\n",
    "        **kwargs\n",
    "    ) -> None:\n",
    "        super().fit(X_train=X_train.values, y_train=y_train.values,\n",
    "                    max_epochs=1, batch_size=25, **kwargs)\n",
    "        \n",
    "    def predict(self, X: pd.DataFrame):\n",
    "        return super().predict(X=X.values)\n",
    "        "
   ],
   "outputs": [],
   "execution_count": 3
  },
  {
   "cell_type": "code",
   "source": [
    "# constants\n",
    "SEED = 42\n",
    "NUM_SPLITS = 10\n",
    "TARGET = \"decision\"\n",
    "MODELS = [XGBClassifier, SVMClassifier, TabRClassifier]\n",
    "\n",
    "# XGBCLASSIFIER_HYPERPARAMETERS = {\n",
    "#     \"max_depth\": [3, 4, 5, 6, 7, 8],\n",
    "#     \"min_child_weight\": [1, 4, 8, 16],\n",
    "# }\n",
    "\n",
    "XGBCLASSIFIER_HYPERPARAMETERS = {\n",
    "    \"max_depth\": [3, 4],\n",
    "    \"min_child_weight\": [1, 4],\n",
    "}\n",
    "\n",
    "SVMCLASSIFIER_HYPERPARAMETERS = {\n",
    "    \"degree\": [2, 3, 4, 5]\n",
    "}\n",
    "\n",
    "TABRCLASSIFIER_HYPERPARAMETERS = {\n",
    "   \"d_main\": [24, 48],\n",
    "    \"d_multiplier\": [1.2, 1.5]\n",
    "}\n",
    "\n",
    "HYPERPARAMETERS = {\n",
    "    XGBClassifier.__name__ : XGBCLASSIFIER_HYPERPARAMETERS,\n",
    "    SVMClassifier.__name__ : SVMCLASSIFIER_HYPERPARAMETERS,\n",
    "    TabRClassifier.__name__ : TABRCLASSIFIER_HYPERPARAMETERS\n",
    "}"
   ],
   "metadata": {
    "id": "r4lGdgRVRMM5",
    "ExecuteTime": {
     "end_time": "2025-01-23T21:27:19.534384Z",
     "start_time": "2025-01-23T21:27:19.522416Z"
    }
   },
   "outputs": [],
   "execution_count": 4
  },
  {
   "cell_type": "code",
   "source": [
    "def one_hot_encode(df, features):\n",
    "    for feature in features:\n",
    "        dummies = pd.get_dummies(df.loc[:, feature], prefix=feature)\n",
    "        df = pd.concat([df, dummies], axis=1)\n",
    "        df = df.drop(feature, axis=1)\n",
    "    return df"
   ],
   "metadata": {
    "id": "1dy8AeieTKI2",
    "ExecuteTime": {
     "end_time": "2025-01-23T21:27:19.564304Z",
     "start_time": "2025-01-23T21:27:19.552338Z"
    }
   },
   "outputs": [],
   "execution_count": 5
  },
  {
   "cell_type": "code",
   "metadata": {
    "colab": {
     "base_uri": "https://localhost:8080/"
    },
    "id": "iGaslg9IB3oc",
    "outputId": "7eeb95d1-73ae-4231-9873-3c6bd3956e8e",
    "ExecuteTime": {
     "end_time": "2025-01-23T21:27:21.035367Z",
     "start_time": "2025-01-23T21:27:19.583254Z"
    }
   },
   "source": [
    "# load dataset\n",
    "dataset = pd.read_csv(\"SpeedDating.csv\", index_col=0)\n",
    "\n",
    "# remove redundant columns\n",
    "subset = ['gender', 'age', 'age_o', 'race', 'race_o', 'importance_same_race', 'importance_same_religion',\n",
    "          'pref_o_attractive', 'pref_o_sincere', 'pref_o_intelligence',\n",
    "          'pref_o_funny', 'pref_o_ambitious', 'pref_o_shared_interests', 'attractive_o', 'sinsere_o', 'intelligence_o', 'funny_o',\n",
    "          'ambitous_o', 'shared_interests_o', 'attractive_important', 'sincere_important', 'intellicence_important', 'funny_important', 'ambtition_important',\n",
    "          'shared_interests_important', 'attractive', 'sincere', 'intelligence', 'funny', 'ambition', 'attractive_partner', 'sincere_partner',\n",
    "          'intelligence_partner', 'funny_partner', 'ambition_partner', 'shared_interests_partner',\n",
    "          'sports', 'tvsports', 'exercise', 'dining', 'museums', 'art', 'hiking', 'gaming', 'clubbing', 'reading', 'tv', 'theater', 'movies', 'concerts',\n",
    "          'music', 'shopping', 'yoga',\n",
    "          'interests_correlate', 'expected_happy_with_sd_people', 'expected_num_matches', 'expected_num_interested_in_me',\n",
    "          'like', 'guess_prob_liked', 'decision']\n",
    "\n",
    "dataset = dataset.loc[:, subset]\n",
    "dataset.loc[:, 'gender'] = (dataset.loc[:, 'gender'] == 'female') # one hot encode gender\n",
    "dataset = one_hot_encode(dataset, ['race', 'race_o'])\n",
    "dataset = dataset.apply(pd.to_numeric, errors='coerce', axis=1)\n",
    "dataset = dataset.fillna(dataset.mean())\n",
    "print(dataset.head())\n",
    "X, y = dataset.loc[:, dataset.columns != TARGET], dataset.loc[:, TARGET]\n",
    "BASELINE = np.sum(y == 1) / np.sum(y == 0)\n"
   ],
   "outputs": [
    {
     "name": "stderr",
     "output_type": "stream",
     "text": [
      "C:\\Users\\mracz\\AppData\\Local\\Temp\\ipykernel_22340\\3974884003.py:2: DtypeWarning: Columns (4,11,12,16,17,18,19,20,40,41,42,43,44,45,52,53,54,55,56,74,75,76,77,78,79,80,81,82,83,84,85,86,87,88,89,90,108,110) have mixed types. Specify dtype option on import or set low_memory=False.\n",
      "  dataset = pd.read_csv(\"SpeedDating.csv\", index_col=0)\n"
     ]
    },
    {
     "name": "stdout",
     "output_type": "stream",
     "text": [
      "    gender   age  age_o  importance_same_race  importance_same_religion  \\\n",
      "id                                                                        \n",
      "1      1.0  21.0   27.0                   2.0                       4.0   \n",
      "2      1.0  21.0   22.0                   2.0                       4.0   \n",
      "3      1.0  21.0   22.0                   2.0                       4.0   \n",
      "4      1.0  21.0   23.0                   2.0                       4.0   \n",
      "5      1.0  21.0   24.0                   2.0                       4.0   \n",
      "\n",
      "    pref_o_attractive  pref_o_sincere  pref_o_intelligence  pref_o_funny  \\\n",
      "id                                                                         \n",
      "1                35.0            20.0                 20.0          20.0   \n",
      "2                60.0             0.0                  0.0          40.0   \n",
      "3                19.0            18.0                 19.0          18.0   \n",
      "4                30.0             5.0                 15.0          40.0   \n",
      "5                30.0            10.0                 20.0          10.0   \n",
      "\n",
      "    pref_o_ambitious  ...  race_Black/African American  \\\n",
      "id                    ...                                \n",
      "1                0.0  ...                          0.0   \n",
      "2                0.0  ...                          0.0   \n",
      "3               14.0  ...                          0.0   \n",
      "4                5.0  ...                          0.0   \n",
      "5               10.0  ...                          0.0   \n",
      "\n",
      "    race_European/Caucasian-American  race_Latino/Hispanic American  \\\n",
      "id                                                                    \n",
      "1                                0.0                            0.0   \n",
      "2                                0.0                            0.0   \n",
      "3                                0.0                            0.0   \n",
      "4                                0.0                            0.0   \n",
      "5                                0.0                            0.0   \n",
      "\n",
      "    race_Other  race_o_?  race_o_Asian/Pacific Islander/Asian-American  \\\n",
      "id                                                                       \n",
      "1          0.0       0.0                                           0.0   \n",
      "2          0.0       0.0                                           0.0   \n",
      "3          0.0       0.0                                           1.0   \n",
      "4          0.0       0.0                                           0.0   \n",
      "5          0.0       0.0                                           0.0   \n",
      "\n",
      "    race_o_Black/African American  race_o_European/Caucasian-American  \\\n",
      "id                                                                      \n",
      "1                             0.0                                 1.0   \n",
      "2                             0.0                                 1.0   \n",
      "3                             0.0                                 0.0   \n",
      "4                             0.0                                 1.0   \n",
      "5                             0.0                                 0.0   \n",
      "\n",
      "    race_o_Latino/Hispanic American  race_o_Other  \n",
      "id                                                 \n",
      "1                               0.0           0.0  \n",
      "2                               0.0           0.0  \n",
      "3                               0.0           0.0  \n",
      "4                               0.0           0.0  \n",
      "5                               1.0           0.0  \n",
      "\n",
      "[5 rows x 70 columns]\n"
     ]
    }
   ],
   "execution_count": 6
  },
  {
   "metadata": {
    "ExecuteTime": {
     "end_time": "2025-01-23T21:27:21.096271Z",
     "start_time": "2025-01-23T21:27:21.082279Z"
    }
   },
   "cell_type": "code",
   "source": [
    "def train_test_models(models, hyperparameters, X, y):\n",
    "    accuracies = {}\n",
    "    X_train, X_test, y_train, y_test = train_test_split(X, y, test_size=0.1, random_state=SEED)\n",
    "    for model_class in models:\n",
    "        model_hyperparameters = hyperparameters[model_class.__name__]\n",
    "        accuracies[model_class.__name__] = []\n",
    "        for hyperparams in product(*model_hyperparameters.values()):\n",
    "            kwargs = dict(zip(model_hyperparameters.keys(), hyperparams))\n",
    "            model = model_class(**kwargs)\n",
    "            model.fit(X_train, y_train)\n",
    "            acc = np.mean(model.predict(X_test) == np.array(y_test))\n",
    "            accuracies[model_class.__name__].append((acc, kwargs))\n",
    "    return accuracies"
   ],
   "outputs": [],
   "execution_count": 7
  },
  {
   "metadata": {
    "ExecuteTime": {
     "end_time": "2025-01-23T21:27:21.157860Z",
     "start_time": "2025-01-23T21:27:21.143841Z"
    }
   },
   "cell_type": "code",
   "source": [
    "def cross_validate_models(models, kwargs_lists, X, y):\n",
    "    accuracies = {}\n",
    "    kf = StratifiedKFold(n_splits=NUM_SPLITS, shuffle=True, random_state=SEED)\n",
    "    for model_class in models:\n",
    "        accuracies[model_class.__name__] = []\n",
    "        for kwargs in kwargs_lists[model_class.__name__]:\n",
    "            s=0\n",
    "            model = model_class(**kwargs)\n",
    "            for train_idx, test_idx in kf.split(X, y):\n",
    "                X_train, y_train = X.iloc[train_idx, :], y.iloc[train_idx]\n",
    "                X_test, y_test = X.iloc[test_idx, :], y.iloc[test_idx]\n",
    "                model.fit(X_train, y_train)\n",
    "                s += np.mean(model.predict(X_test) == np.array(y_test))\n",
    "            accuracies[model_class.__name__].append((s/NUM_SPLITS, kwargs))\n",
    "    return accuracies"
   ],
   "outputs": [],
   "execution_count": 8
  },
  {
   "metadata": {
    "ExecuteTime": {
     "end_time": "2025-01-23T21:36:15.775743Z",
     "start_time": "2025-01-23T21:36:15.754025Z"
    }
   },
   "cell_type": "code",
   "source": [
    "def get_top_kwargs(models, accuracies, cutoff):\n",
    "    top_kwargs = {}\n",
    "    for model_class in models:\n",
    "        _, top_models_ = zip(*(sorted(accuracies[model_class.__name__], key=lambda x: x[0])[-int(cutoff*len(accuracies[model_class.__name__])):]))\n",
    "        top_kwargs[model_class.__name__] = list(top_models_)\n",
    "    return top_kwargs"
   ],
   "outputs": [],
   "execution_count": 15
  },
  {
   "metadata": {
    "ExecuteTime": {
     "end_time": "2025-01-23T21:36:46.295915Z",
     "start_time": "2025-01-23T21:36:46.276931Z"
    }
   },
   "cell_type": "code",
   "source": [
    "def get_rashomon_sets(models, hyperparameters, X, y, initial_cutoff=0.1, top=0.01):\n",
    "    assert top <= initial_cutoff\n",
    "    initial_accuracies = train_test_models(models, hyperparameters, X, y)\n",
    "    filtered_kwargs_lists = get_top_kwargs(models, initial_accuracies, initial_cutoff)\n",
    "    final_accuracies = cross_validate_models(models, filtered_kwargs_lists, X, y)\n",
    "    top_kwargs = get_top_kwargs(models, final_accuracies, top/initial_cutoff)\n",
    "    return top_kwargs\n",
    "    "
   ],
   "outputs": [],
   "execution_count": 16
  },
  {
   "metadata": {
    "ExecuteTime": {
     "end_time": "2025-01-23T21:48:44.382366Z",
     "start_time": "2025-01-23T21:36:49.206975Z"
    }
   },
   "cell_type": "code",
   "source": "rashomon_sets = get_rashomon_sets(MODELS, HYPERPARAMETERS, X, y, 0.75, 0.5)",
   "outputs": [
    {
     "name": "stderr",
     "output_type": "stream",
     "text": [
      "C:\\Users\\mracz\\Documents\\ML\\XAI-team-project\\pytorch_tabr\\base_model.py:258: UserWarning: No early stopping will be performed, last training weights will be used.\n",
      "  warnings.warn(wrn_msg)\n"
     ]
    },
    {
     "data": {
      "text/plain": [
       " epochs:   0%|          | 0/1 [00:00<?, ?it/s]"
      ],
      "application/vnd.jupyter.widget-view+json": {
       "version_major": 2,
       "version_minor": 0,
       "model_id": "55df6f55e11c404d8aab8ecbbb872b11"
      }
     },
     "metadata": {},
     "output_type": "display_data"
    },
    {
     "data": {
      "text/plain": [
       " batches:   0%|          | 0/301 [00:00<?, ?it/s]"
      ],
      "application/vnd.jupyter.widget-view+json": {
       "version_major": 2,
       "version_minor": 0,
       "model_id": "5ace476b95ca4a33b956e4468210c769"
      }
     },
     "metadata": {},
     "output_type": "display_data"
    },
    {
     "data": {
      "text/plain": [
       " epochs:   0%|          | 0/1 [00:00<?, ?it/s]"
      ],
      "application/vnd.jupyter.widget-view+json": {
       "version_major": 2,
       "version_minor": 0,
       "model_id": "f13fffb338014ff49759a17440c14a5e"
      }
     },
     "metadata": {},
     "output_type": "display_data"
    },
    {
     "data": {
      "text/plain": [
       " batches:   0%|          | 0/301 [00:00<?, ?it/s]"
      ],
      "application/vnd.jupyter.widget-view+json": {
       "version_major": 2,
       "version_minor": 0,
       "model_id": "48da7976ba8543778c93f9421842e2fb"
      }
     },
     "metadata": {},
     "output_type": "display_data"
    },
    {
     "data": {
      "text/plain": [
       " epochs:   0%|          | 0/1 [00:00<?, ?it/s]"
      ],
      "application/vnd.jupyter.widget-view+json": {
       "version_major": 2,
       "version_minor": 0,
       "model_id": "d35009708b494fa9ba959a1c5687273e"
      }
     },
     "metadata": {},
     "output_type": "display_data"
    },
    {
     "data": {
      "text/plain": [
       " batches:   0%|          | 0/301 [00:00<?, ?it/s]"
      ],
      "application/vnd.jupyter.widget-view+json": {
       "version_major": 2,
       "version_minor": 0,
       "model_id": "9d6e4931a50f4970b9a007b7ed5cb329"
      }
     },
     "metadata": {},
     "output_type": "display_data"
    },
    {
     "data": {
      "text/plain": [
       " epochs:   0%|          | 0/1 [00:00<?, ?it/s]"
      ],
      "application/vnd.jupyter.widget-view+json": {
       "version_major": 2,
       "version_minor": 0,
       "model_id": "a9388e829c244c83a4642b8219b5de7b"
      }
     },
     "metadata": {},
     "output_type": "display_data"
    },
    {
     "data": {
      "text/plain": [
       " batches:   0%|          | 0/301 [00:00<?, ?it/s]"
      ],
      "application/vnd.jupyter.widget-view+json": {
       "version_major": 2,
       "version_minor": 0,
       "model_id": "f32bdde6058b4de1b7a176b97616f4b8"
      }
     },
     "metadata": {},
     "output_type": "display_data"
    },
    {
     "name": "stdout",
     "output_type": "stream",
     "text": [
      "TEST:\n",
      "{'XGBClassifier': [{'max_depth': 3, 'min_child_weight': 4}, {'max_depth': 4, 'min_child_weight': 4}, {'max_depth': 3, 'min_child_weight': 1}], 'SVMClassifier': [{'degree': 3}, {'degree': 4}, {'degree': 5}], 'TabRClassifier': [{'d_main': 24, 'd_multiplier': 1.5}, {'d_main': 48, 'd_multiplier': 1.2}, {'d_main': 48, 'd_multiplier': 1.5}]}\n"
     ]
    },
    {
     "name": "stderr",
     "output_type": "stream",
     "text": [
      "C:\\Users\\mracz\\Documents\\ML\\XAI-team-project\\pytorch_tabr\\base_model.py:258: UserWarning: No early stopping will be performed, last training weights will be used.\n",
      "  warnings.warn(wrn_msg)\n"
     ]
    },
    {
     "data": {
      "text/plain": [
       " epochs:   0%|          | 0/1 [00:00<?, ?it/s]"
      ],
      "application/vnd.jupyter.widget-view+json": {
       "version_major": 2,
       "version_minor": 0,
       "model_id": "f260ef769f0b4505b8e689f7a3a8b042"
      }
     },
     "metadata": {},
     "output_type": "display_data"
    },
    {
     "data": {
      "text/plain": [
       " batches:   0%|          | 0/301 [00:00<?, ?it/s]"
      ],
      "application/vnd.jupyter.widget-view+json": {
       "version_major": 2,
       "version_minor": 0,
       "model_id": "c22f0dac3c9c45d286a5809c35301b9a"
      }
     },
     "metadata": {},
     "output_type": "display_data"
    },
    {
     "data": {
      "text/plain": [
       " epochs:   0%|          | 0/1 [00:00<?, ?it/s]"
      ],
      "application/vnd.jupyter.widget-view+json": {
       "version_major": 2,
       "version_minor": 0,
       "model_id": "bb5a1cc2433945588d9051f8db1ca6b7"
      }
     },
     "metadata": {},
     "output_type": "display_data"
    },
    {
     "data": {
      "text/plain": [
       " batches:   0%|          | 0/301 [00:00<?, ?it/s]"
      ],
      "application/vnd.jupyter.widget-view+json": {
       "version_major": 2,
       "version_minor": 0,
       "model_id": "6cd3d7b564974f709c9394f1a4a81a1b"
      }
     },
     "metadata": {},
     "output_type": "display_data"
    },
    {
     "data": {
      "text/plain": [
       " epochs:   0%|          | 0/1 [00:00<?, ?it/s]"
      ],
      "application/vnd.jupyter.widget-view+json": {
       "version_major": 2,
       "version_minor": 0,
       "model_id": "6c8f23235f334eb79bb5eb30782c59fa"
      }
     },
     "metadata": {},
     "output_type": "display_data"
    },
    {
     "data": {
      "text/plain": [
       " batches:   0%|          | 0/301 [00:00<?, ?it/s]"
      ],
      "application/vnd.jupyter.widget-view+json": {
       "version_major": 2,
       "version_minor": 0,
       "model_id": "6de855a776504a1bb84c8b56ac907532"
      }
     },
     "metadata": {},
     "output_type": "display_data"
    },
    {
     "data": {
      "text/plain": [
       " epochs:   0%|          | 0/1 [00:00<?, ?it/s]"
      ],
      "application/vnd.jupyter.widget-view+json": {
       "version_major": 2,
       "version_minor": 0,
       "model_id": "23c0166f8dde486887638f157cc5afdf"
      }
     },
     "metadata": {},
     "output_type": "display_data"
    },
    {
     "data": {
      "text/plain": [
       " batches:   0%|          | 0/301 [00:00<?, ?it/s]"
      ],
      "application/vnd.jupyter.widget-view+json": {
       "version_major": 2,
       "version_minor": 0,
       "model_id": "624d491c86bf4a548fd3c30e4361c52e"
      }
     },
     "metadata": {},
     "output_type": "display_data"
    },
    {
     "data": {
      "text/plain": [
       " epochs:   0%|          | 0/1 [00:00<?, ?it/s]"
      ],
      "application/vnd.jupyter.widget-view+json": {
       "version_major": 2,
       "version_minor": 0,
       "model_id": "d81ea463a2a84e9d93974a52cae5821d"
      }
     },
     "metadata": {},
     "output_type": "display_data"
    },
    {
     "data": {
      "text/plain": [
       " batches:   0%|          | 0/301 [00:00<?, ?it/s]"
      ],
      "application/vnd.jupyter.widget-view+json": {
       "version_major": 2,
       "version_minor": 0,
       "model_id": "5e092d6e54f54ac9a70f5017db211241"
      }
     },
     "metadata": {},
     "output_type": "display_data"
    },
    {
     "data": {
      "text/plain": [
       " epochs:   0%|          | 0/1 [00:00<?, ?it/s]"
      ],
      "application/vnd.jupyter.widget-view+json": {
       "version_major": 2,
       "version_minor": 0,
       "model_id": "e4a1ea1ead2841b2bbd3f9ce00c09c06"
      }
     },
     "metadata": {},
     "output_type": "display_data"
    },
    {
     "data": {
      "text/plain": [
       " batches:   0%|          | 0/301 [00:00<?, ?it/s]"
      ],
      "application/vnd.jupyter.widget-view+json": {
       "version_major": 2,
       "version_minor": 0,
       "model_id": "ec584c7e078340339b742d8aac5ef55d"
      }
     },
     "metadata": {},
     "output_type": "display_data"
    },
    {
     "data": {
      "text/plain": [
       " epochs:   0%|          | 0/1 [00:00<?, ?it/s]"
      ],
      "application/vnd.jupyter.widget-view+json": {
       "version_major": 2,
       "version_minor": 0,
       "model_id": "4503269cad274fef96f2d797040a3295"
      }
     },
     "metadata": {},
     "output_type": "display_data"
    },
    {
     "data": {
      "text/plain": [
       " batches:   0%|          | 0/301 [00:00<?, ?it/s]"
      ],
      "application/vnd.jupyter.widget-view+json": {
       "version_major": 2,
       "version_minor": 0,
       "model_id": "26edbf6245c8464b98f62dcb4d64f663"
      }
     },
     "metadata": {},
     "output_type": "display_data"
    },
    {
     "data": {
      "text/plain": [
       " epochs:   0%|          | 0/1 [00:00<?, ?it/s]"
      ],
      "application/vnd.jupyter.widget-view+json": {
       "version_major": 2,
       "version_minor": 0,
       "model_id": "ee6d2bba5a2b41568c00abdefbca03fc"
      }
     },
     "metadata": {},
     "output_type": "display_data"
    },
    {
     "data": {
      "text/plain": [
       " batches:   0%|          | 0/301 [00:00<?, ?it/s]"
      ],
      "application/vnd.jupyter.widget-view+json": {
       "version_major": 2,
       "version_minor": 0,
       "model_id": "49dece75b1dd4d818bfa144a0228af27"
      }
     },
     "metadata": {},
     "output_type": "display_data"
    },
    {
     "data": {
      "text/plain": [
       " epochs:   0%|          | 0/1 [00:00<?, ?it/s]"
      ],
      "application/vnd.jupyter.widget-view+json": {
       "version_major": 2,
       "version_minor": 0,
       "model_id": "c6e7732f102d4e9184b6457026948984"
      }
     },
     "metadata": {},
     "output_type": "display_data"
    },
    {
     "data": {
      "text/plain": [
       " batches:   0%|          | 0/301 [00:00<?, ?it/s]"
      ],
      "application/vnd.jupyter.widget-view+json": {
       "version_major": 2,
       "version_minor": 0,
       "model_id": "7cb16c0a643642d1956459028e619df8"
      }
     },
     "metadata": {},
     "output_type": "display_data"
    },
    {
     "data": {
      "text/plain": [
       " epochs:   0%|          | 0/1 [00:00<?, ?it/s]"
      ],
      "application/vnd.jupyter.widget-view+json": {
       "version_major": 2,
       "version_minor": 0,
       "model_id": "819440832df14deca2041e3cb572f25d"
      }
     },
     "metadata": {},
     "output_type": "display_data"
    },
    {
     "data": {
      "text/plain": [
       " batches:   0%|          | 0/301 [00:00<?, ?it/s]"
      ],
      "application/vnd.jupyter.widget-view+json": {
       "version_major": 2,
       "version_minor": 0,
       "model_id": "43198d0f69374b7fbbda2fad9ee6e42a"
      }
     },
     "metadata": {},
     "output_type": "display_data"
    },
    {
     "name": "stderr",
     "output_type": "stream",
     "text": [
      "C:\\Users\\mracz\\Documents\\ML\\XAI-team-project\\pytorch_tabr\\base_model.py:258: UserWarning: No early stopping will be performed, last training weights will be used.\n",
      "  warnings.warn(wrn_msg)\n"
     ]
    },
    {
     "data": {
      "text/plain": [
       " epochs:   0%|          | 0/1 [00:00<?, ?it/s]"
      ],
      "application/vnd.jupyter.widget-view+json": {
       "version_major": 2,
       "version_minor": 0,
       "model_id": "1eaaa3dc476b46eabdd90b5297ebf811"
      }
     },
     "metadata": {},
     "output_type": "display_data"
    },
    {
     "data": {
      "text/plain": [
       " batches:   0%|          | 0/301 [00:00<?, ?it/s]"
      ],
      "application/vnd.jupyter.widget-view+json": {
       "version_major": 2,
       "version_minor": 0,
       "model_id": "c4995be9e70f43988779c0ffb75beed0"
      }
     },
     "metadata": {},
     "output_type": "display_data"
    },
    {
     "data": {
      "text/plain": [
       " epochs:   0%|          | 0/1 [00:00<?, ?it/s]"
      ],
      "application/vnd.jupyter.widget-view+json": {
       "version_major": 2,
       "version_minor": 0,
       "model_id": "f1fb5d99d83d499ba5892f71f619dabf"
      }
     },
     "metadata": {},
     "output_type": "display_data"
    },
    {
     "data": {
      "text/plain": [
       " batches:   0%|          | 0/301 [00:00<?, ?it/s]"
      ],
      "application/vnd.jupyter.widget-view+json": {
       "version_major": 2,
       "version_minor": 0,
       "model_id": "243fc95b8ebe488f9e118463cded69a2"
      }
     },
     "metadata": {},
     "output_type": "display_data"
    },
    {
     "data": {
      "text/plain": [
       " epochs:   0%|          | 0/1 [00:00<?, ?it/s]"
      ],
      "application/vnd.jupyter.widget-view+json": {
       "version_major": 2,
       "version_minor": 0,
       "model_id": "070042b3fe69461fa938a8c1c85feb67"
      }
     },
     "metadata": {},
     "output_type": "display_data"
    },
    {
     "data": {
      "text/plain": [
       " batches:   0%|          | 0/301 [00:00<?, ?it/s]"
      ],
      "application/vnd.jupyter.widget-view+json": {
       "version_major": 2,
       "version_minor": 0,
       "model_id": "4d96585d215343d19a3115ad55080917"
      }
     },
     "metadata": {},
     "output_type": "display_data"
    },
    {
     "data": {
      "text/plain": [
       " epochs:   0%|          | 0/1 [00:00<?, ?it/s]"
      ],
      "application/vnd.jupyter.widget-view+json": {
       "version_major": 2,
       "version_minor": 0,
       "model_id": "e2723c12266c45adacb6790b7886adc8"
      }
     },
     "metadata": {},
     "output_type": "display_data"
    },
    {
     "data": {
      "text/plain": [
       " batches:   0%|          | 0/301 [00:00<?, ?it/s]"
      ],
      "application/vnd.jupyter.widget-view+json": {
       "version_major": 2,
       "version_minor": 0,
       "model_id": "bd16c982cbc0429db92d0faaa8e479b1"
      }
     },
     "metadata": {},
     "output_type": "display_data"
    },
    {
     "data": {
      "text/plain": [
       " epochs:   0%|          | 0/1 [00:00<?, ?it/s]"
      ],
      "application/vnd.jupyter.widget-view+json": {
       "version_major": 2,
       "version_minor": 0,
       "model_id": "6692faefed3b48f09edbf59e9b095fa6"
      }
     },
     "metadata": {},
     "output_type": "display_data"
    },
    {
     "data": {
      "text/plain": [
       " batches:   0%|          | 0/301 [00:00<?, ?it/s]"
      ],
      "application/vnd.jupyter.widget-view+json": {
       "version_major": 2,
       "version_minor": 0,
       "model_id": "3e3fb2461aa844388c61ed8d71c9f384"
      }
     },
     "metadata": {},
     "output_type": "display_data"
    },
    {
     "data": {
      "text/plain": [
       " epochs:   0%|          | 0/1 [00:00<?, ?it/s]"
      ],
      "application/vnd.jupyter.widget-view+json": {
       "version_major": 2,
       "version_minor": 0,
       "model_id": "2aee0bf53bd3474aa8af1330f9f69905"
      }
     },
     "metadata": {},
     "output_type": "display_data"
    },
    {
     "data": {
      "text/plain": [
       " batches:   0%|          | 0/301 [00:00<?, ?it/s]"
      ],
      "application/vnd.jupyter.widget-view+json": {
       "version_major": 2,
       "version_minor": 0,
       "model_id": "3b7deba331e241c38467347ec74359da"
      }
     },
     "metadata": {},
     "output_type": "display_data"
    },
    {
     "data": {
      "text/plain": [
       " epochs:   0%|          | 0/1 [00:00<?, ?it/s]"
      ],
      "application/vnd.jupyter.widget-view+json": {
       "version_major": 2,
       "version_minor": 0,
       "model_id": "e93a0bceba2842d89401f3c698b181e6"
      }
     },
     "metadata": {},
     "output_type": "display_data"
    },
    {
     "data": {
      "text/plain": [
       " batches:   0%|          | 0/301 [00:00<?, ?it/s]"
      ],
      "application/vnd.jupyter.widget-view+json": {
       "version_major": 2,
       "version_minor": 0,
       "model_id": "5a85a79b9c8f45969fc1b2d855d2a376"
      }
     },
     "metadata": {},
     "output_type": "display_data"
    },
    {
     "data": {
      "text/plain": [
       " epochs:   0%|          | 0/1 [00:00<?, ?it/s]"
      ],
      "application/vnd.jupyter.widget-view+json": {
       "version_major": 2,
       "version_minor": 0,
       "model_id": "9d5e9c40e86444cf9be24c134d752bd6"
      }
     },
     "metadata": {},
     "output_type": "display_data"
    },
    {
     "data": {
      "text/plain": [
       " batches:   0%|          | 0/301 [00:00<?, ?it/s]"
      ],
      "application/vnd.jupyter.widget-view+json": {
       "version_major": 2,
       "version_minor": 0,
       "model_id": "a97a46b3b93e4162baa4539dbb3379fd"
      }
     },
     "metadata": {},
     "output_type": "display_data"
    },
    {
     "data": {
      "text/plain": [
       " epochs:   0%|          | 0/1 [00:00<?, ?it/s]"
      ],
      "application/vnd.jupyter.widget-view+json": {
       "version_major": 2,
       "version_minor": 0,
       "model_id": "f0e5e084f2bc4ba6864955373df8289e"
      }
     },
     "metadata": {},
     "output_type": "display_data"
    },
    {
     "data": {
      "text/plain": [
       " batches:   0%|          | 0/301 [00:00<?, ?it/s]"
      ],
      "application/vnd.jupyter.widget-view+json": {
       "version_major": 2,
       "version_minor": 0,
       "model_id": "071c461e5199476b96845cd39285017d"
      }
     },
     "metadata": {},
     "output_type": "display_data"
    },
    {
     "data": {
      "text/plain": [
       " epochs:   0%|          | 0/1 [00:00<?, ?it/s]"
      ],
      "application/vnd.jupyter.widget-view+json": {
       "version_major": 2,
       "version_minor": 0,
       "model_id": "64ee521d47864840a5e14f9be75e14bd"
      }
     },
     "metadata": {},
     "output_type": "display_data"
    },
    {
     "data": {
      "text/plain": [
       " batches:   0%|          | 0/301 [00:00<?, ?it/s]"
      ],
      "application/vnd.jupyter.widget-view+json": {
       "version_major": 2,
       "version_minor": 0,
       "model_id": "927b4428d0f843308b51a9fe1523364b"
      }
     },
     "metadata": {},
     "output_type": "display_data"
    },
    {
     "name": "stderr",
     "output_type": "stream",
     "text": [
      "C:\\Users\\mracz\\Documents\\ML\\XAI-team-project\\pytorch_tabr\\base_model.py:258: UserWarning: No early stopping will be performed, last training weights will be used.\n",
      "  warnings.warn(wrn_msg)\n"
     ]
    },
    {
     "data": {
      "text/plain": [
       " epochs:   0%|          | 0/1 [00:00<?, ?it/s]"
      ],
      "application/vnd.jupyter.widget-view+json": {
       "version_major": 2,
       "version_minor": 0,
       "model_id": "a0086ccf86734d7583ed4f7777ca0683"
      }
     },
     "metadata": {},
     "output_type": "display_data"
    },
    {
     "data": {
      "text/plain": [
       " batches:   0%|          | 0/301 [00:00<?, ?it/s]"
      ],
      "application/vnd.jupyter.widget-view+json": {
       "version_major": 2,
       "version_minor": 0,
       "model_id": "b66a895d2dee47d9bee7a69bf4c39270"
      }
     },
     "metadata": {},
     "output_type": "display_data"
    },
    {
     "data": {
      "text/plain": [
       " epochs:   0%|          | 0/1 [00:00<?, ?it/s]"
      ],
      "application/vnd.jupyter.widget-view+json": {
       "version_major": 2,
       "version_minor": 0,
       "model_id": "5b75bbdc63dc442eb06fbd44923e2128"
      }
     },
     "metadata": {},
     "output_type": "display_data"
    },
    {
     "data": {
      "text/plain": [
       " batches:   0%|          | 0/301 [00:00<?, ?it/s]"
      ],
      "application/vnd.jupyter.widget-view+json": {
       "version_major": 2,
       "version_minor": 0,
       "model_id": "62d948bc2dda43c38a7cdf09352d84fe"
      }
     },
     "metadata": {},
     "output_type": "display_data"
    },
    {
     "data": {
      "text/plain": [
       " epochs:   0%|          | 0/1 [00:00<?, ?it/s]"
      ],
      "application/vnd.jupyter.widget-view+json": {
       "version_major": 2,
       "version_minor": 0,
       "model_id": "cb1449a48afd4b26b86b978d787955a0"
      }
     },
     "metadata": {},
     "output_type": "display_data"
    },
    {
     "data": {
      "text/plain": [
       " batches:   0%|          | 0/301 [00:00<?, ?it/s]"
      ],
      "application/vnd.jupyter.widget-view+json": {
       "version_major": 2,
       "version_minor": 0,
       "model_id": "978ab053a0db459c96d144db0fe7843c"
      }
     },
     "metadata": {},
     "output_type": "display_data"
    },
    {
     "data": {
      "text/plain": [
       " epochs:   0%|          | 0/1 [00:00<?, ?it/s]"
      ],
      "application/vnd.jupyter.widget-view+json": {
       "version_major": 2,
       "version_minor": 0,
       "model_id": "adc081a98aa7436991fa4daeaf046c3c"
      }
     },
     "metadata": {},
     "output_type": "display_data"
    },
    {
     "data": {
      "text/plain": [
       " batches:   0%|          | 0/301 [00:00<?, ?it/s]"
      ],
      "application/vnd.jupyter.widget-view+json": {
       "version_major": 2,
       "version_minor": 0,
       "model_id": "058c5752fcfa4c4fb7b87735a82471e0"
      }
     },
     "metadata": {},
     "output_type": "display_data"
    },
    {
     "data": {
      "text/plain": [
       " epochs:   0%|          | 0/1 [00:00<?, ?it/s]"
      ],
      "application/vnd.jupyter.widget-view+json": {
       "version_major": 2,
       "version_minor": 0,
       "model_id": "78e79fa682c248819b9442eb71f85b15"
      }
     },
     "metadata": {},
     "output_type": "display_data"
    },
    {
     "data": {
      "text/plain": [
       " batches:   0%|          | 0/301 [00:00<?, ?it/s]"
      ],
      "application/vnd.jupyter.widget-view+json": {
       "version_major": 2,
       "version_minor": 0,
       "model_id": "adcda29d421a4bc79937b1b1f6cac903"
      }
     },
     "metadata": {},
     "output_type": "display_data"
    },
    {
     "data": {
      "text/plain": [
       " epochs:   0%|          | 0/1 [00:00<?, ?it/s]"
      ],
      "application/vnd.jupyter.widget-view+json": {
       "version_major": 2,
       "version_minor": 0,
       "model_id": "e0b491b5a87a406b9bc79b200643a709"
      }
     },
     "metadata": {},
     "output_type": "display_data"
    },
    {
     "data": {
      "text/plain": [
       " batches:   0%|          | 0/301 [00:00<?, ?it/s]"
      ],
      "application/vnd.jupyter.widget-view+json": {
       "version_major": 2,
       "version_minor": 0,
       "model_id": "b148304b24984f19a69c85c3140718ad"
      }
     },
     "metadata": {},
     "output_type": "display_data"
    },
    {
     "data": {
      "text/plain": [
       " epochs:   0%|          | 0/1 [00:00<?, ?it/s]"
      ],
      "application/vnd.jupyter.widget-view+json": {
       "version_major": 2,
       "version_minor": 0,
       "model_id": "42eddc459b2b43bfbc5bfb18f1650350"
      }
     },
     "metadata": {},
     "output_type": "display_data"
    },
    {
     "data": {
      "text/plain": [
       " batches:   0%|          | 0/301 [00:00<?, ?it/s]"
      ],
      "application/vnd.jupyter.widget-view+json": {
       "version_major": 2,
       "version_minor": 0,
       "model_id": "dfccaf5014df41a4871b39592275f40f"
      }
     },
     "metadata": {},
     "output_type": "display_data"
    },
    {
     "data": {
      "text/plain": [
       " epochs:   0%|          | 0/1 [00:00<?, ?it/s]"
      ],
      "application/vnd.jupyter.widget-view+json": {
       "version_major": 2,
       "version_minor": 0,
       "model_id": "b447840c49b041dda79c623fdc01a4e8"
      }
     },
     "metadata": {},
     "output_type": "display_data"
    },
    {
     "data": {
      "text/plain": [
       " batches:   0%|          | 0/301 [00:00<?, ?it/s]"
      ],
      "application/vnd.jupyter.widget-view+json": {
       "version_major": 2,
       "version_minor": 0,
       "model_id": "ea732f82b9dd44b7816befeffc125ffb"
      }
     },
     "metadata": {},
     "output_type": "display_data"
    },
    {
     "data": {
      "text/plain": [
       " epochs:   0%|          | 0/1 [00:00<?, ?it/s]"
      ],
      "application/vnd.jupyter.widget-view+json": {
       "version_major": 2,
       "version_minor": 0,
       "model_id": "0c9948b6114d4c56a340acaae00a1e13"
      }
     },
     "metadata": {},
     "output_type": "display_data"
    },
    {
     "data": {
      "text/plain": [
       " batches:   0%|          | 0/301 [00:00<?, ?it/s]"
      ],
      "application/vnd.jupyter.widget-view+json": {
       "version_major": 2,
       "version_minor": 0,
       "model_id": "f697fdcc913f4e308f5ea25639a53879"
      }
     },
     "metadata": {},
     "output_type": "display_data"
    },
    {
     "data": {
      "text/plain": [
       " epochs:   0%|          | 0/1 [00:00<?, ?it/s]"
      ],
      "application/vnd.jupyter.widget-view+json": {
       "version_major": 2,
       "version_minor": 0,
       "model_id": "677df8918da740dca95e8e703d202297"
      }
     },
     "metadata": {},
     "output_type": "display_data"
    },
    {
     "data": {
      "text/plain": [
       " batches:   0%|          | 0/301 [00:00<?, ?it/s]"
      ],
      "application/vnd.jupyter.widget-view+json": {
       "version_major": 2,
       "version_minor": 0,
       "model_id": "15767ced4129415b82e4ad0c4717c857"
      }
     },
     "metadata": {},
     "output_type": "display_data"
    },
    {
     "name": "stdout",
     "output_type": "stream",
     "text": [
      "2nd TEST:\n",
      "{'XGBClassifier': [{'max_depth': 3, 'min_child_weight': 4}, {'max_depth': 4, 'min_child_weight': 4}], 'SVMClassifier': [{'degree': 4}, {'degree': 5}], 'TabRClassifier': [{'d_main': 48, 'd_multiplier': 1.2}, {'d_main': 48, 'd_multiplier': 1.5}]}\n"
     ]
    }
   ],
   "execution_count": 17
  },
  {
   "metadata": {},
   "cell_type": "code",
   "source": [
    "# Train and test the model\n",
    "# kf = StratifiedKFold(n_splits=NUM_SPLITS, shuffle=True, random_state=SEED)\n",
    "# svm_classifier = make_pipeline(StandardScaler(), SVC())\n",
    "# s=0\n",
    "# for train_idx, test_idx in kf.split(X, y):\n",
    "#     X_train, y_train = X.iloc[train_idx, :], y.iloc[train_idx]\n",
    "#     X_test, y_test = X.iloc[test_idx, :], y.iloc[test_idx]\n",
    "#     svm_classifier.fit(X_train, y_train)\n",
    "#     print('Split accuracy: ', np.mean(svm_classifier.predict(X_test) == np.array(y_test)))\n",
    "#     s += np.mean(svm_classifier.predict(X_test) == np.array(y_test))\n",
    "#     print('Accuracy for class 1 [person wanted to match]', np.sum( np.logical_and(svm_classifier.predict(X_test) == 1, svm_classifier.predict(X_test) == y_test))/np.sum(y_test))\n",
    "# print('Average accuracy:')\n",
    "# print(s/NUM_SPLITS)"
   ],
   "outputs": [],
   "execution_count": null
  },
  {
   "cell_type": "code",
   "source": [
    "# Train and test the model\n",
    "# kf = StratifiedKFold(n_splits=NUM_SPLITS, shuffle=True, random_state=SEED)\n",
    "# xgboost = XGBClassifier(max_depth=4)\n",
    "# s=0\n",
    "# for train_idx, test_idx in kf.split(X, y):\n",
    "#     X_train, y_train = X.iloc[train_idx, :], y.iloc[train_idx]\n",
    "#     X_test, y_test = X.iloc[test_idx, :], y.iloc[test_idx]\n",
    "#     xgboost.fit(X_train, y_train)\n",
    "#     print('Split accuracy: ', np.mean(xgboost.predict(X_test) == np.array(y_test)))\n",
    "#     s += np.mean(xgboost.predict(X_test) == np.array(y_test))\n",
    "#     print('Accuracy for class 1 [person wanted to match]', np.sum( np.logical_and(xgboost.predict(X_test) == 1, xgboost.predict(X_test) == y_test))/np.sum(y_test))\n",
    "# print('Average accuracy:')\n",
    "# print(s/NUM_SPLITS)"
   ],
   "metadata": {
    "colab": {
     "base_uri": "https://localhost:8080/"
    },
    "id": "rQ4qjuXWVooN",
    "outputId": "57b88f4f-f199-4adb-b77d-d6ab90dc5f8d"
   },
   "outputs": [],
   "execution_count": null
  }
 ],
 "metadata": {
  "kernelspec": {
   "display_name": ".venv",
   "language": "python",
   "name": "python3"
  },
  "language_info": {
   "codemirror_mode": {
    "name": "ipython",
    "version": 3
   },
   "file_extension": ".py",
   "mimetype": "text/x-python",
   "name": "python",
   "nbconvert_exporter": "python",
   "pygments_lexer": "ipython3",
   "version": "3.10.12"
  },
  "colab": {
   "provenance": []
  }
 },
 "nbformat": 4,
 "nbformat_minor": 0
}
