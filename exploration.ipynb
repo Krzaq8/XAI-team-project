{
 "cells": [
  {
   "cell_type": "code",
   "source": [
    "# imports\n",
    "import pandas as pd\n",
    "import numpy as np\n",
    "import torch\n",
    "from sklearn.model_selection import StratifiedKFold, train_test_split\n",
    "from xgboost import XGBClassifier\n",
    "from sklearn.pipeline import make_pipeline\n",
    "from sklearn.preprocessing import StandardScaler # To preprocess data for SVM - greatly improves performance\n",
    "from sklearn.svm import SVC\n",
    "from pytorch_tabr import TabRClassifier as TabRClassifier_\n",
    "from itertools import product\n",
    "from typing import Tuple, Union, Optional, Callable\n",
    "from tqdm import tqdm"
   ],
   "metadata": {
    "id": "mzX1wFJAONFQ",
    "ExecuteTime": {
     "end_time": "2025-01-23T18:18:14.696258Z",
     "start_time": "2025-01-23T18:18:09.661356Z"
    }
   },
   "outputs": [],
   "execution_count": 1
  },
  {
   "metadata": {
    "ExecuteTime": {
     "end_time": "2025-01-23T18:18:14.712120Z",
     "start_time": "2025-01-23T18:18:14.701204Z"
    }
   },
   "cell_type": "code",
   "source": [
    "def SVMClassifier(**hyperparams):\n",
    "    return make_pipeline(StandardScaler(), SVC(**hyperparams))"
   ],
   "outputs": [],
   "execution_count": 2
  },
  {
   "metadata": {
    "ExecuteTime": {
     "end_time": "2025-01-23T18:31:06.313650Z",
     "start_time": "2025-01-23T18:31:06.291710Z"
    }
   },
   "cell_type": "code",
   "source": [
    "class TabRClassifier(TabRClassifier_):\n",
    "    def __init__(self, **kwargs):\n",
    "        self.type_embeddings=\"one-hot\"\n",
    "        self.device_name=\"cpu\"\n",
    "        self.optimizer_params={\"lr\": 2e-4}\n",
    "        self.d_main=48\n",
    "        self.context_size=96\n",
    "        self.d_multiplier = 1.5\n",
    "        # selection_function_name=\"sparsemax\",\n",
    "        # context_dropout=0.5,\n",
    "        # context_sample_size=2000,\n",
    "        # num_embeddings={\"type\": \"PLREmbeddings\", \"n_frequencies\": 32, \"frequency_scale\": 32, \"d_embedding\": 32, \"lite\": False},\n",
    "        super().__init__(**kwargs)\n",
    "        \n",
    "    def fit(\n",
    "        self,\n",
    "        X_train: pd.DataFrame,\n",
    "        y_train: pd.DataFrame,\n",
    "        **kwargs\n",
    "    ) -> None:\n",
    "        super().fit(X_train=X_train.values, y_train=y_train.values,\n",
    "                    max_epochs=1, batch_size=25, **kwargs)\n",
    "        \n",
    "    def predict(self, X: pd.DataFrame):\n",
    "        return super().predict(X=X.values)\n",
    "        "
   ],
   "outputs": [],
   "execution_count": 15
  },
  {
   "cell_type": "code",
   "source": [
    "# constants\n",
    "SEED = 42\n",
    "NUM_SPLITS = 10\n",
    "TARGET = \"decision\"\n",
    "MODELS = [XGBClassifier, SVMClassifier, TabRClassifier]\n",
    "\n",
    "# XGBCLASSIFIER_HYPERPARAMETERS = {\n",
    "#     \"max_depth\": [3, 4, 5, 6, 7, 8],\n",
    "#     \"min_child_weight\": [1, 4, 8, 16],\n",
    "# }\n",
    "\n",
    "XGBCLASSIFIER_HYPERPARAMETERS = {\n",
    "    \"max_depth\": [3, 4],\n",
    "    \"min_child_weight\": [1, 4],\n",
    "}\n",
    "\n",
    "SVMCLASSIFIER_HYPERPARAMETERS = {\n",
    "    \n",
    "}\n",
    "\n",
    "TABRCLASSIFIER_HYPERPARAMETERS = {\n",
    "   \n",
    "}\n",
    "\n",
    "HYPERPARAMETERS = {\n",
    "    XGBClassifier.__name__ : XGBCLASSIFIER_HYPERPARAMETERS,\n",
    "    SVMClassifier.__name__ : SVMCLASSIFIER_HYPERPARAMETERS,\n",
    "    TabRClassifier.__name__ : TABRCLASSIFIER_HYPERPARAMETERS\n",
    "}"
   ],
   "metadata": {
    "id": "r4lGdgRVRMM5",
    "ExecuteTime": {
     "end_time": "2025-01-23T18:18:15.055386Z",
     "start_time": "2025-01-23T18:18:15.043417Z"
    }
   },
   "outputs": [],
   "execution_count": 4
  },
  {
   "cell_type": "code",
   "source": [
    "def one_hot_encode(df, features):\n",
    "    for feature in features:\n",
    "        dummies = pd.get_dummies(df.loc[:, feature], prefix=feature)\n",
    "        df = pd.concat([df, dummies], axis=1)\n",
    "        df = df.drop(feature, axis=1)\n",
    "    return df"
   ],
   "metadata": {
    "id": "1dy8AeieTKI2",
    "ExecuteTime": {
     "end_time": "2025-01-23T18:18:15.086580Z",
     "start_time": "2025-01-23T18:18:15.073207Z"
    }
   },
   "outputs": [],
   "execution_count": 5
  },
  {
   "cell_type": "code",
   "metadata": {
    "colab": {
     "base_uri": "https://localhost:8080/"
    },
    "id": "iGaslg9IB3oc",
    "outputId": "7eeb95d1-73ae-4231-9873-3c6bd3956e8e",
    "ExecuteTime": {
     "end_time": "2025-01-23T18:18:16.298737Z",
     "start_time": "2025-01-23T18:18:15.107766Z"
    }
   },
   "source": [
    "# load dataset\n",
    "dataset = pd.read_csv(\"SpeedDating.csv\", index_col=0)\n",
    "\n",
    "# remove redundant columns\n",
    "subset = ['gender', 'age', 'age_o', 'race', 'race_o', 'importance_same_race', 'importance_same_religion',\n",
    "          'pref_o_attractive', 'pref_o_sincere', 'pref_o_intelligence',\n",
    "          'pref_o_funny', 'pref_o_ambitious', 'pref_o_shared_interests', 'attractive_o', 'sinsere_o', 'intelligence_o', 'funny_o',\n",
    "          'ambitous_o', 'shared_interests_o', 'attractive_important', 'sincere_important', 'intellicence_important', 'funny_important', 'ambtition_important',\n",
    "          'shared_interests_important', 'attractive', 'sincere', 'intelligence', 'funny', 'ambition', 'attractive_partner', 'sincere_partner',\n",
    "          'intelligence_partner', 'funny_partner', 'ambition_partner', 'shared_interests_partner',\n",
    "          'sports', 'tvsports', 'exercise', 'dining', 'museums', 'art', 'hiking', 'gaming', 'clubbing', 'reading', 'tv', 'theater', 'movies', 'concerts',\n",
    "          'music', 'shopping', 'yoga',\n",
    "          'interests_correlate', 'expected_happy_with_sd_people', 'expected_num_matches', 'expected_num_interested_in_me',\n",
    "          'like', 'guess_prob_liked', 'decision']\n",
    "\n",
    "dataset = dataset.loc[:, subset]\n",
    "dataset.loc[:, 'gender'] = (dataset.loc[:, 'gender'] == 'female') # one hot encode gender\n",
    "dataset = one_hot_encode(dataset, ['race', 'race_o'])\n",
    "dataset = dataset.apply(pd.to_numeric, errors='coerce', axis=1)\n",
    "dataset = dataset.fillna(dataset.mean())\n",
    "print(dataset.head())\n",
    "X, y = dataset.loc[:, dataset.columns != TARGET], dataset.loc[:, TARGET]\n",
    "BASELINE = np.sum(y == 1) / np.sum(y == 0)\n"
   ],
   "outputs": [
    {
     "name": "stderr",
     "output_type": "stream",
     "text": [
      "C:\\Users\\mracz\\AppData\\Local\\Temp\\ipykernel_25688\\3974884003.py:2: DtypeWarning: Columns (4,11,12,16,17,18,19,20,40,41,42,43,44,45,52,53,54,55,56,74,75,76,77,78,79,80,81,82,83,84,85,86,87,88,89,90,108,110) have mixed types. Specify dtype option on import or set low_memory=False.\n",
      "  dataset = pd.read_csv(\"SpeedDating.csv\", index_col=0)\n"
     ]
    },
    {
     "name": "stdout",
     "output_type": "stream",
     "text": [
      "    gender   age  age_o  importance_same_race  importance_same_religion  \\\n",
      "id                                                                        \n",
      "1      1.0  21.0   27.0                   2.0                       4.0   \n",
      "2      1.0  21.0   22.0                   2.0                       4.0   \n",
      "3      1.0  21.0   22.0                   2.0                       4.0   \n",
      "4      1.0  21.0   23.0                   2.0                       4.0   \n",
      "5      1.0  21.0   24.0                   2.0                       4.0   \n",
      "\n",
      "    pref_o_attractive  pref_o_sincere  pref_o_intelligence  pref_o_funny  \\\n",
      "id                                                                         \n",
      "1                35.0            20.0                 20.0          20.0   \n",
      "2                60.0             0.0                  0.0          40.0   \n",
      "3                19.0            18.0                 19.0          18.0   \n",
      "4                30.0             5.0                 15.0          40.0   \n",
      "5                30.0            10.0                 20.0          10.0   \n",
      "\n",
      "    pref_o_ambitious  ...  race_Black/African American  \\\n",
      "id                    ...                                \n",
      "1                0.0  ...                          0.0   \n",
      "2                0.0  ...                          0.0   \n",
      "3               14.0  ...                          0.0   \n",
      "4                5.0  ...                          0.0   \n",
      "5               10.0  ...                          0.0   \n",
      "\n",
      "    race_European/Caucasian-American  race_Latino/Hispanic American  \\\n",
      "id                                                                    \n",
      "1                                0.0                            0.0   \n",
      "2                                0.0                            0.0   \n",
      "3                                0.0                            0.0   \n",
      "4                                0.0                            0.0   \n",
      "5                                0.0                            0.0   \n",
      "\n",
      "    race_Other  race_o_?  race_o_Asian/Pacific Islander/Asian-American  \\\n",
      "id                                                                       \n",
      "1          0.0       0.0                                           0.0   \n",
      "2          0.0       0.0                                           0.0   \n",
      "3          0.0       0.0                                           1.0   \n",
      "4          0.0       0.0                                           0.0   \n",
      "5          0.0       0.0                                           0.0   \n",
      "\n",
      "    race_o_Black/African American  race_o_European/Caucasian-American  \\\n",
      "id                                                                      \n",
      "1                             0.0                                 1.0   \n",
      "2                             0.0                                 1.0   \n",
      "3                             0.0                                 0.0   \n",
      "4                             0.0                                 1.0   \n",
      "5                             0.0                                 0.0   \n",
      "\n",
      "    race_o_Latino/Hispanic American  race_o_Other  \n",
      "id                                                 \n",
      "1                               0.0           0.0  \n",
      "2                               0.0           0.0  \n",
      "3                               0.0           0.0  \n",
      "4                               0.0           0.0  \n",
      "5                               1.0           0.0  \n",
      "\n",
      "[5 rows x 70 columns]\n"
     ]
    }
   ],
   "execution_count": 6
  },
  {
   "metadata": {
    "ExecuteTime": {
     "end_time": "2025-01-23T18:18:16.362404Z",
     "start_time": "2025-01-23T18:18:16.348354Z"
    }
   },
   "cell_type": "code",
   "source": [
    "def train_test_models(models, hyperparameters, X, y, ret_trained_models=False):\n",
    "    trained_models = {}\n",
    "    accuracies = {}\n",
    "    kf = StratifiedKFold(n_splits=NUM_SPLITS, shuffle=True, random_state=SEED)\n",
    "    for model_class in models:\n",
    "        model_hyperparameters = hyperparameters[model_class.__name__]\n",
    "        for hyperparams in product(*model_hyperparameters.values()):\n",
    "            s=0\n",
    "            kwargs = dict(zip(model_hyperparameters.keys(), hyperparams))\n",
    "            model = model_class(**kwargs)\n",
    "            for train_idx, test_idx in kf.split(X, y):\n",
    "                X_train, y_train = X.iloc[train_idx, :], y.iloc[train_idx]\n",
    "                X_test, y_test = X.iloc[test_idx, :], y.iloc[test_idx]\n",
    "                model.fit(X_train, y_train)\n",
    "                s += np.mean(model.predict(X_test) == np.array(y_test))\n",
    "            if ret_trained_models:\n",
    "                trained_models[model_class.__name__, hyperparams] = model\n",
    "            accuracies[model_class.__name__, hyperparams] = s/NUM_SPLITS\n",
    "    return accuracies, trained_models if ret_trained_models else accuracies"
   ],
   "outputs": [],
   "execution_count": 7
  },
  {
   "metadata": {
    "ExecuteTime": {
     "end_time": "2025-01-23T18:40:22.362837Z",
     "start_time": "2025-01-23T18:31:15.784457Z"
    }
   },
   "cell_type": "code",
   "source": "train_test_models([TabRClassifier], HYPERPARAMETERS, X, y, ret_trained_models=True)",
   "outputs": [
    {
     "name": "stderr",
     "output_type": "stream",
     "text": [
      "C:\\Users\\mracz\\Documents\\ML\\XAI-team-project\\pytorch_tabr\\base_model.py:258: UserWarning: No early stopping will be performed, last training weights will be used.\n",
      "  warnings.warn(wrn_msg)\n"
     ]
    },
    {
     "data": {
      "text/plain": [
       " epochs:   0%|          | 0/1 [00:00<?, ?it/s]"
      ],
      "application/vnd.jupyter.widget-view+json": {
       "version_major": 2,
       "version_minor": 0,
       "model_id": "bc1d920bb9a14425b035bd0a693b0978"
      }
     },
     "metadata": {},
     "output_type": "display_data"
    },
    {
     "data": {
      "text/plain": [
       " batches:   0%|          | 0/301 [00:00<?, ?it/s]"
      ],
      "application/vnd.jupyter.widget-view+json": {
       "version_major": 2,
       "version_minor": 0,
       "model_id": "c0658bd641524885a6d1be6d97c4bf25"
      }
     },
     "metadata": {},
     "output_type": "display_data"
    },
    {
     "data": {
      "text/plain": [
       " epochs:   0%|          | 0/1 [00:00<?, ?it/s]"
      ],
      "application/vnd.jupyter.widget-view+json": {
       "version_major": 2,
       "version_minor": 0,
       "model_id": "32c09e7cf1814a449667fdd69c42b5c1"
      }
     },
     "metadata": {},
     "output_type": "display_data"
    },
    {
     "data": {
      "text/plain": [
       " batches:   0%|          | 0/301 [00:00<?, ?it/s]"
      ],
      "application/vnd.jupyter.widget-view+json": {
       "version_major": 2,
       "version_minor": 0,
       "model_id": "e32f34d8d5fe4b1c992eac3947c6abd2"
      }
     },
     "metadata": {},
     "output_type": "display_data"
    },
    {
     "data": {
      "text/plain": [
       " epochs:   0%|          | 0/1 [00:00<?, ?it/s]"
      ],
      "application/vnd.jupyter.widget-view+json": {
       "version_major": 2,
       "version_minor": 0,
       "model_id": "72a200eee2a640c08f6354eebbd2812f"
      }
     },
     "metadata": {},
     "output_type": "display_data"
    },
    {
     "data": {
      "text/plain": [
       " batches:   0%|          | 0/301 [00:00<?, ?it/s]"
      ],
      "application/vnd.jupyter.widget-view+json": {
       "version_major": 2,
       "version_minor": 0,
       "model_id": "7bf60038d2cc4c1fbd28c445c39378dd"
      }
     },
     "metadata": {},
     "output_type": "display_data"
    },
    {
     "data": {
      "text/plain": [
       " epochs:   0%|          | 0/1 [00:00<?, ?it/s]"
      ],
      "application/vnd.jupyter.widget-view+json": {
       "version_major": 2,
       "version_minor": 0,
       "model_id": "53071230dfd542cbb23c1b9cf3f75685"
      }
     },
     "metadata": {},
     "output_type": "display_data"
    },
    {
     "data": {
      "text/plain": [
       " batches:   0%|          | 0/301 [00:00<?, ?it/s]"
      ],
      "application/vnd.jupyter.widget-view+json": {
       "version_major": 2,
       "version_minor": 0,
       "model_id": "71a3251d30dd4803ac03df82661b96d2"
      }
     },
     "metadata": {},
     "output_type": "display_data"
    },
    {
     "data": {
      "text/plain": [
       " epochs:   0%|          | 0/1 [00:00<?, ?it/s]"
      ],
      "application/vnd.jupyter.widget-view+json": {
       "version_major": 2,
       "version_minor": 0,
       "model_id": "8b64109638c0481da7b0ac06ba0eb06d"
      }
     },
     "metadata": {},
     "output_type": "display_data"
    },
    {
     "data": {
      "text/plain": [
       " batches:   0%|          | 0/301 [00:00<?, ?it/s]"
      ],
      "application/vnd.jupyter.widget-view+json": {
       "version_major": 2,
       "version_minor": 0,
       "model_id": "ce0040fa28d94f4ca91068deca0c2a5d"
      }
     },
     "metadata": {},
     "output_type": "display_data"
    },
    {
     "data": {
      "text/plain": [
       " epochs:   0%|          | 0/1 [00:00<?, ?it/s]"
      ],
      "application/vnd.jupyter.widget-view+json": {
       "version_major": 2,
       "version_minor": 0,
       "model_id": "381651b6986945ee8881020720e579aa"
      }
     },
     "metadata": {},
     "output_type": "display_data"
    },
    {
     "data": {
      "text/plain": [
       " batches:   0%|          | 0/301 [00:00<?, ?it/s]"
      ],
      "application/vnd.jupyter.widget-view+json": {
       "version_major": 2,
       "version_minor": 0,
       "model_id": "be2a99a01fec4cd2a95d49f109c0243f"
      }
     },
     "metadata": {},
     "output_type": "display_data"
    },
    {
     "data": {
      "text/plain": [
       " epochs:   0%|          | 0/1 [00:00<?, ?it/s]"
      ],
      "application/vnd.jupyter.widget-view+json": {
       "version_major": 2,
       "version_minor": 0,
       "model_id": "1e4cc41f27fa4ebf907e350903d0b84e"
      }
     },
     "metadata": {},
     "output_type": "display_data"
    },
    {
     "data": {
      "text/plain": [
       " batches:   0%|          | 0/301 [00:00<?, ?it/s]"
      ],
      "application/vnd.jupyter.widget-view+json": {
       "version_major": 2,
       "version_minor": 0,
       "model_id": "1b8cbb7dc6f6454f9e59335bab35a83d"
      }
     },
     "metadata": {},
     "output_type": "display_data"
    },
    {
     "data": {
      "text/plain": [
       " epochs:   0%|          | 0/1 [00:00<?, ?it/s]"
      ],
      "application/vnd.jupyter.widget-view+json": {
       "version_major": 2,
       "version_minor": 0,
       "model_id": "a9b067c112544651a10c4201becba394"
      }
     },
     "metadata": {},
     "output_type": "display_data"
    },
    {
     "data": {
      "text/plain": [
       " batches:   0%|          | 0/301 [00:00<?, ?it/s]"
      ],
      "application/vnd.jupyter.widget-view+json": {
       "version_major": 2,
       "version_minor": 0,
       "model_id": "be28c21c61f84de7bc81a4c29adc942e"
      }
     },
     "metadata": {},
     "output_type": "display_data"
    },
    {
     "data": {
      "text/plain": [
       " epochs:   0%|          | 0/1 [00:00<?, ?it/s]"
      ],
      "application/vnd.jupyter.widget-view+json": {
       "version_major": 2,
       "version_minor": 0,
       "model_id": "06bd27c24dde46918d43f959ea6e9cd5"
      }
     },
     "metadata": {},
     "output_type": "display_data"
    },
    {
     "data": {
      "text/plain": [
       " batches:   0%|          | 0/301 [00:00<?, ?it/s]"
      ],
      "application/vnd.jupyter.widget-view+json": {
       "version_major": 2,
       "version_minor": 0,
       "model_id": "724188e2495248e4b33245c6584a162b"
      }
     },
     "metadata": {},
     "output_type": "display_data"
    },
    {
     "data": {
      "text/plain": [
       " epochs:   0%|          | 0/1 [00:00<?, ?it/s]"
      ],
      "application/vnd.jupyter.widget-view+json": {
       "version_major": 2,
       "version_minor": 0,
       "model_id": "ea71df2444f94bcdab4eb9947a4b9c16"
      }
     },
     "metadata": {},
     "output_type": "display_data"
    },
    {
     "data": {
      "text/plain": [
       " batches:   0%|          | 0/301 [00:00<?, ?it/s]"
      ],
      "application/vnd.jupyter.widget-view+json": {
       "version_major": 2,
       "version_minor": 0,
       "model_id": "6e0c5fdb77514d97b676851f94b0434f"
      }
     },
     "metadata": {},
     "output_type": "display_data"
    },
    {
     "data": {
      "text/plain": [
       "({('TabRClassifier', ()): 0.7222430375559947},\n",
       " {('TabRClassifier',\n",
       "   ()): TabRClassifier(cat_indices=[], cat_cardinalities=[], bin_indices=[], num_embeddings=None, type_embeddings=None, cat_emb_dims=2, d_main=96, d_multiplier=2.0, encoder_n_blocks=2, predictor_n_blocks=2, mixer_normalization='auto', context_dropout=0, dropout0=0.5, dropout1=0.5, normalization='LayerNorm', activation='ReLU', device_name='cpu', optimizer_fn=<class 'torch.optim.adam.Adam'>, optimizer_params={'lr': 0.0002}, scheduler_fn=None, scheduler_params={}, context_size=96, context_sample_size=None, memory_efficient=False, candidate_encoding_batch_size=None, selection_function_name='softmax', seed=0, verbose=0)})"
      ]
     },
     "execution_count": 16,
     "metadata": {},
     "output_type": "execute_result"
    }
   ],
   "execution_count": 16
  },
  {
   "metadata": {
    "ExecuteTime": {
     "end_time": "2025-01-23T18:28:09.838066Z",
     "start_time": "2025-01-23T18:28:09.828094Z"
    }
   },
   "cell_type": "code",
   "source": [
    "# Train and test the model\n",
    "# kf = StratifiedKFold(n_splits=NUM_SPLITS, shuffle=True, random_state=SEED)\n",
    "# svm_classifier = make_pipeline(StandardScaler(), SVC())\n",
    "# s=0\n",
    "# for train_idx, test_idx in kf.split(X, y):\n",
    "#     X_train, y_train = X.iloc[train_idx, :], y.iloc[train_idx]\n",
    "#     X_test, y_test = X.iloc[test_idx, :], y.iloc[test_idx]\n",
    "#     svm_classifier.fit(X_train, y_train)\n",
    "#     print('Split accuracy: ', np.mean(svm_classifier.predict(X_test) == np.array(y_test)))\n",
    "#     s += np.mean(svm_classifier.predict(X_test) == np.array(y_test))\n",
    "#     print('Accuracy for class 1 [person wanted to match]', np.sum( np.logical_and(svm_classifier.predict(X_test) == 1, svm_classifier.predict(X_test) == y_test))/np.sum(y_test))\n",
    "# print('Average accuracy:')\n",
    "# print(s/NUM_SPLITS)"
   ],
   "outputs": [],
   "execution_count": 9
  },
  {
   "cell_type": "code",
   "source": [
    "# Train and test the model\n",
    "# kf = StratifiedKFold(n_splits=NUM_SPLITS, shuffle=True, random_state=SEED)\n",
    "# xgboost = XGBClassifier(max_depth=4)\n",
    "# s=0\n",
    "# for train_idx, test_idx in kf.split(X, y):\n",
    "#     X_train, y_train = X.iloc[train_idx, :], y.iloc[train_idx]\n",
    "#     X_test, y_test = X.iloc[test_idx, :], y.iloc[test_idx]\n",
    "#     xgboost.fit(X_train, y_train)\n",
    "#     print('Split accuracy: ', np.mean(xgboost.predict(X_test) == np.array(y_test)))\n",
    "#     s += np.mean(xgboost.predict(X_test) == np.array(y_test))\n",
    "#     print('Accuracy for class 1 [person wanted to match]', np.sum( np.logical_and(xgboost.predict(X_test) == 1, xgboost.predict(X_test) == y_test))/np.sum(y_test))\n",
    "# print('Average accuracy:')\n",
    "# print(s/NUM_SPLITS)"
   ],
   "metadata": {
    "colab": {
     "base_uri": "https://localhost:8080/"
    },
    "id": "rQ4qjuXWVooN",
    "outputId": "57b88f4f-f199-4adb-b77d-d6ab90dc5f8d",
    "ExecuteTime": {
     "end_time": "2025-01-23T18:28:09.900462Z",
     "start_time": "2025-01-23T18:28:09.887265Z"
    }
   },
   "outputs": [],
   "execution_count": 10
  }
 ],
 "metadata": {
  "kernelspec": {
   "display_name": ".venv",
   "language": "python",
   "name": "python3"
  },
  "language_info": {
   "codemirror_mode": {
    "name": "ipython",
    "version": 3
   },
   "file_extension": ".py",
   "mimetype": "text/x-python",
   "name": "python",
   "nbconvert_exporter": "python",
   "pygments_lexer": "ipython3",
   "version": "3.10.12"
  },
  "colab": {
   "provenance": []
  }
 },
 "nbformat": 4,
 "nbformat_minor": 0
}
