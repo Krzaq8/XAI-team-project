{
 "cells": [
  {
   "cell_type": "markdown",
   "metadata": {},
   "source": [
    "# Importing from modules"
   ]
  },
  {
   "cell_type": "code",
   "execution_count": 1,
   "metadata": {
    "ExecuteTime": {
     "end_time": "2025-02-02T16:23:21.546421Z",
     "start_time": "2025-02-02T16:23:21.537922Z"
    },
    "id": "mzX1wFJAONFQ"
   },
   "outputs": [],
   "source": [
    "# imports\n",
    "import pickle\n",
    "import pandas as pd\n",
    "import numpy as np\n",
    "import torch\n",
    "from sklearn.model_selection import StratifiedKFold, train_test_split\n",
    "import lime\n",
    "import lime.lime_tabular\n",
    "import shap\n",
    "from sklearn.inspection import permutation_importance\n",
    "from typing import Tuple, Union, Optional, Callable\n",
    "import matplotlib.pyplot as plt\n",
    "from tqdm import tqdm\n",
    "import warnings\n",
    "from importlib import reload\n",
    "import constants\n",
    "import data_utils\n",
    "import models\n",
    "import training_and_selection\n",
    "import plot_accuracies\n",
    "import math"
   ]
  },
  {
   "cell_type": "code",
   "execution_count": 2,
   "metadata": {
    "ExecuteTime": {
     "end_time": "2025-02-02T15:12:29.157888Z",
     "start_time": "2025-02-02T15:12:29.148912Z"
    },
    "id": "r4lGdgRVRMM5"
   },
   "outputs": [],
   "source": [
    "reload(constants)\n",
    "reload(models)\n",
    "from constants import (\n",
    "    SEED,\n",
    "    NUM_SPLITS,\n",
    "    INITIAL_CUTOFF,\n",
    "    TOP,\n",
    "    TARGET,\n",
    "    MODEL_ACCURACIES_PATH,\n",
    "    FILTERED_MODEL_ACCURACIES_PATH,\n",
    "    TIME_LIMIT,\n",
    "    TIME_LIMIT_CROSS_VALIDATION,\n",
    "    RASHOMON_SETS_PATH,\n",
    "    INITIAL_ACCURACIES_PATH\n",
    ")\n",
    "from models import MODELS, HYPERPARAMETERS"
   ]
  },
  {
   "cell_type": "code",
   "execution_count": 3,
   "metadata": {
    "ExecuteTime": {
     "end_time": "2025-02-02T15:12:30.414950Z",
     "start_time": "2025-02-02T15:12:29.172848Z"
    }
   },
   "outputs": [
    {
     "name": "stderr",
     "output_type": "stream",
     "text": [
      "C:\\Users\\mracz\\Documents\\ML\\XAI-team-project\\data_utils.py:20: DtypeWarning: Columns (4,11,12,16,17,18,19,20,40,41,42,43,44,45,52,53,54,55,56,74,75,76,77,78,79,80,81,82,83,84,85,86,87,88,89,90,108,110) have mixed types. Specify dtype option on import or set low_memory=False.\n",
      "  dataset = pd.read_csv(\"SpeedDating.csv\", index_col=0)\n"
     ]
    }
   ],
   "source": [
    "reload(data_utils)\n",
    "from data_utils import get_dataset\n",
    "\n",
    "X, y = get_dataset()\n",
    "X_train, X_test, y_train, y_test = train_test_split(X, y, test_size=0.1, random_state=(SEED+1))\n",
    "BASELINE = np.sum(y == 1) / np.sum(y == 0)"
   ]
  },
  {
   "cell_type": "code",
   "execution_count": 4,
   "metadata": {
    "ExecuteTime": {
     "end_time": "2025-02-02T15:12:30.845311Z",
     "start_time": "2025-02-02T15:12:30.774987Z"
    }
   },
   "outputs": [
    {
     "name": "stdout",
     "output_type": "stream",
     "text": [
      "SVMClassifier 321\n",
      "TabRClassifier 293\n",
      "XGBClassifier 289\n",
      "SVMClassifier\n"
     ]
    },
    {
     "name": "stderr",
     "output_type": "stream",
     "text": [
      "720it [00:00, 743085.35it/s]\n"
     ]
    },
    {
     "name": "stdout",
     "output_type": "stream",
     "text": [
      "TabRClassifier\n"
     ]
    },
    {
     "name": "stderr",
     "output_type": "stream",
     "text": [
      "288it [00:00, 289193.09it/s]\n"
     ]
    },
    {
     "name": "stdout",
     "output_type": "stream",
     "text": [
      "XGBClassifier\n"
     ]
    },
    {
     "name": "stderr",
     "output_type": "stream",
     "text": [
      "288it [00:00, 289123.88it/s]\n",
      "48it [00:00, ?it/s]\n",
      "43it [00:00, ?it/s]\n",
      "43it [00:00, ?it/s]\n"
     ]
    }
   ],
   "source": [
    "reload(constants)\n",
    "reload(training_and_selection)\n",
    "from training_and_selection import get_rashomon_sets\n",
    "\n",
    "rashomon_sets_params = get_rashomon_sets(\n",
    "    models=MODELS,\n",
    "    hyperparameters=HYPERPARAMETERS,\n",
    "    X=X,\n",
    "    y=y,\n",
    "    initial_cutoff=0.15,\n",
    "    top=0.04,\n",
    "    initial_time_limit=50,\n",
    "    cross_validation_time_limit=60,\n",
    "    initial_path='results/initial_grid_search.csv',\n",
    "    cross_validation_path='results/cross_validation_results.csv',\n",
    ")\n",
    "pickle.dump(rashomon_sets_params, open(RASHOMON_SETS_PATH, 'wb'))"
   ]
  },
  {
   "cell_type": "code",
   "execution_count": 5,
   "metadata": {
    "ExecuteTime": {
     "end_time": "2025-02-02T15:12:52.677962Z",
     "start_time": "2025-02-02T15:12:52.663075Z"
    }
   },
   "outputs": [],
   "source": [
    "rashomon_sets_params = pickle.load(open('rashomon_sets_params.pickle', 'rb'))"
   ]
  },
  {
   "cell_type": "code",
   "execution_count": null,
   "metadata": {
    "ExecuteTime": {
     "end_time": "2025-02-02T15:24:07.630418Z",
     "start_time": "2025-02-02T15:12:55.959102Z"
    }
   },
   "outputs": [],
   "source": [
    "rashomon_sets = {}\n",
    "rashomon_sets_acc_lower_bounds = {}\n",
    "accuracies = {}\n",
    "for model_class in MODELS:\n",
    "    rashomon_sets[model_class.__name__] = []\n",
    "    accuracies[model_class.__name__] = []\n",
    "    for kwargs in rashomon_sets_params[model_class.__name__]:\n",
    "        if model_class.__name__ == 'SVMClassifier':\n",
    "            model = model_class(probability=True, **kwargs)\n",
    "        else:\n",
    "            model = model_class(**kwargs)\n",
    "        model.fit(X_train, y_train)\n",
    "        acc = np.mean(model.predict(X_test) == np.array(y_test))\n",
    "        accuracies[model_class.__name__].append(acc)\n",
    "        rashomon_sets[model_class.__name__].append(model)\n",
    "    rashomon_sets_acc_lower_bounds[model_class.__name__] = min(accuracies[model_class.__name__])"
   ]
  },
  {
   "cell_type": "markdown",
   "metadata": {},
   "source": [
    "# XAI things"
   ]
  },
  {
   "cell_type": "code",
   "execution_count": 93,
   "metadata": {
    "ExecuteTime": {
     "end_time": "2025-02-02T16:50:13.145132Z",
     "start_time": "2025-02-02T16:50:12.905423Z"
    }
   },
   "outputs": [
    {
     "data": {
      "image/png": "[encoded data removed]",
      "text/plain": [
       "<Figure size 640x480 with 1 Axes>"
      ]
     },
     "metadata": {},
     "output_type": "display_data"
    }
   ],
   "source": [
    "accuracies = pickle.load(open(INITIAL_ACCURACIES_PATH, 'rb'))\n",
    "\n",
    "reload(constants)\n",
    "reload(plot_accuracies)\n",
    "from constants import TOP\n",
    "from plot_accuracies import plot_accuracies_\n",
    "\n",
    "rashomon_set_accuracies = {model_class: [acc for acc, _ in sorted([e for e in accuracies_ if not math.isnan(e[0])], key=lambda x: x[0])[-int(TOP*len(accuracies_)):]] for model_class, accuracies_ in accuracies.items()}\n",
    "plot_accuracies_(accuracies, BASELINE)"
   ]
  },
  {
   "cell_type": "code",
   "execution_count": 74,
   "metadata": {
    "ExecuteTime": {
     "end_time": "2025-02-02T16:25:55.210807Z",
     "start_time": "2025-02-02T16:25:54.972448Z"
    }
   },
   "outputs": [
    {
     "name": "stdout",
     "output_type": "stream",
     "text": [
      "[0.7911694510739857, 0.7971360381861575, 0.8007159904534606, 0.801909307875895, 0.8066825775656324, 0.8174224343675418, 0.8281622911694511, 0.8317422434367542, 0.8329355608591885, 0.8389021479713604, 0.8400954653937948, 0.8412887828162291]\n"
     ]
    },
    {
     "data": {
      "text/plain": [
       "<matplotlib.legend.Legend at 0x1d89319d840>"
      ]
     },
     "execution_count": 74,
     "metadata": {},
     "output_type": "execute_result"
    },
    {
     "data": {
      "image/png": "[encoded data removed]",
      "text/plain": [
       "<Figure size 1600x800 with 1 Axes>"
      ]
     },
     "metadata": {},
     "output_type": "display_data"
    }
   ],
   "source": [
    "# Compare accuracies for different Rashomon sets\n",
    "plt.figure(figsize=(16, 8))\n",
    "plt.title(\"Rashomon set accuracy comparison between different model classes\")\n",
    "plt.axhline(BASELINE, color='black', linestyle='--', linewidth=1, label='baseline')\n",
    "plt.xlabel('model class')\n",
    "plt.ylabel('accuracy')\n",
    "print(rashomon_set_accuracies['SVMClassifier'])\n",
    "plt.boxplot([model_rashomon for model_rashomon in rashomon_set_accuracies.values()])\n",
    "plt.xticks(np.arange(1, 1+len(MODELS)), [model_class.__name__ for model_class in MODELS])\n",
    "plt.legend()"
   ]
  },
  {
   "cell_type": "code",
   "execution_count": 9,
   "metadata": {},
   "outputs": [],
   "source": [
    "INDICES = [42, 123, 314]\n",
    "RANDOM_SAMPLES = [X_test.iloc[i, :] for i in INDICES]"
   ]
  },
  {
   "cell_type": "code",
   "execution_count": null,
   "metadata": {},
   "outputs": [],
   "source": [
    "# Permutation feature importance\n",
    "\n",
    "with warnings.catch_warnings():\n",
    "    warnings.simplefilter(\"ignore\")\n",
    "    for model_class in MODELS:\n",
    "        for model in rashomon_sets[model_class.__name__]:\n",
    "            importances = permutation_importance(model, X_test, y_test,\n",
    "                           n_repeats=1,\n",
    "                           random_state=SEED,\n",
    "                            scoring=\"accuracy\")\n",
    "            importances = pd.Series(importances['importances'][:, 0], index=list(X.columns))\n",
    "            fig, ax = plt.subplots()\n",
    "            importances.plot.bar(ax=ax)\n",
    "            ax.set_title(\"Permutation feature importances\")\n",
    "            ax.set_ylabel(\"importance\")\n",
    "            fig.tight_layout()"
   ]
  },
  {
   "cell_type": "code",
   "execution_count": 11,
   "metadata": {},
   "outputs": [
    {
     "name": "stdout",
     "output_type": "stream",
     "text": [
      "1\n",
      "2\n",
      "2\n"
     ]
    }
   ],
   "source": [
    "for model_class in MODELS:\n",
    "    print(len(rashomon_sets[model_class.__name__]))"
   ]
  },
  {
   "cell_type": "code",
   "execution_count": null,
   "metadata": {},
   "outputs": [],
   "source": [
    "# LIME\n",
    "with warnings.catch_warnings():\n",
    "    warnings.simplefilter(\"ignore\")\n",
    "    categorical_features = [0, 3, 4, -1]\n",
    "    lime_explainer = lime.lime_tabular.LimeTabularExplainer(X.to_numpy(), categorical_features=categorical_features, feature_names=list(X.columns), class_names=['negative', 'positive'])\n",
    "    for model_class in MODELS:\n",
    "        for model in rashomon_sets[model_class.__name__]:\n",
    "            explaination = lime_explainer.explain_instance(X_test.iloc[SEED, :], model.predict_proba, num_features=5)\n",
    "            fig = explaination.as_pyplot_figure()\n",
    "            plt.plot()\n"
   ]
  },
  {
   "cell_type": "code",
   "execution_count": 13,
   "metadata": {},
   "outputs": [
    {
     "name": "stdout",
     "output_type": "stream",
     "text": [
      "<class 'pandas.core.frame.DataFrame'>\n"
     ]
    },
    {
     "ename": "AttributeError",
     "evalue": "can't set attribute",
     "output_type": "error",
     "traceback": [
      "\u001b[0;31m---------------------------------------------------------------------------\u001b[0m",
      "\u001b[0;31mAttributeError\u001b[0m                            Traceback (most recent call last)",
      "Cell \u001b[0;32mIn[13], line 13\u001b[0m\n\u001b[1;32m     10\u001b[0m \u001b[38;5;66;03m# if hasattr(model, \"feature_names_in_\"):\u001b[39;00m\n\u001b[1;32m     11\u001b[0m \u001b[38;5;66;03m# model.fit(X_train.values, y_train.values)\u001b[39;00m\n\u001b[1;32m     12\u001b[0m \u001b[38;5;28mprint\u001b[39m(\u001b[38;5;28mtype\u001b[39m(X_train\u001b[38;5;241m.\u001b[39miloc[:\u001b[38;5;241m100\u001b[39m, :]))\n\u001b[0;32m---> 13\u001b[0m shap_explainer \u001b[38;5;241m=\u001b[39m \u001b[43mshap\u001b[49m\u001b[38;5;241;43m.\u001b[39;49m\u001b[43mKernelExplainer\u001b[49m\u001b[43m(\u001b[49m\u001b[43mmodel\u001b[49m\u001b[38;5;241;43m.\u001b[39;49m\u001b[43mpredict\u001b[49m\u001b[43m,\u001b[49m\u001b[43m \u001b[49m\u001b[43mX_train\u001b[49m\u001b[38;5;241;43m.\u001b[39;49m\u001b[43miloc\u001b[49m\u001b[43m[\u001b[49m\u001b[43m:\u001b[49m\u001b[38;5;241;43m100\u001b[39;49m\u001b[43m,\u001b[49m\u001b[43m \u001b[49m\u001b[43m:\u001b[49m\u001b[43m]\u001b[49m\u001b[38;5;241;43m.\u001b[39;49m\u001b[43mto_numpy\u001b[49m\u001b[43m(\u001b[49m\u001b[43m)\u001b[49m\u001b[43m,\u001b[49m\u001b[43m \u001b[49m\u001b[43mfeature_names\u001b[49m\u001b[38;5;241;43m=\u001b[39;49m\u001b[38;5;28;43mlist\u001b[39;49m\u001b[43m(\u001b[49m\u001b[43mX\u001b[49m\u001b[38;5;241;43m.\u001b[39;49m\u001b[43mcolumns\u001b[49m\u001b[43m)\u001b[49m\u001b[43m)\u001b[49m\n\u001b[1;32m     14\u001b[0m explaination \u001b[38;5;241m=\u001b[39m shap_explainer(X_test\u001b[38;5;241m.\u001b[39miloc[[SEED], :])\n\u001b[1;32m     15\u001b[0m shap_values \u001b[38;5;241m=\u001b[39m explaination\u001b[38;5;241m.\u001b[39mvalues\n",
      "File \u001b[0;32m~/.local/share/mamba/envs/tabr/lib/python3.9/site-packages/shap/explainers/_kernel.py:95\u001b[0m, in \u001b[0;36mKernelExplainer.__init__\u001b[0;34m(self, model, data, feature_names, link, **kwargs)\u001b[0m\n\u001b[1;32m     93\u001b[0m \u001b[38;5;28mself\u001b[39m\u001b[38;5;241m.\u001b[39mkeep_index \u001b[38;5;241m=\u001b[39m kwargs\u001b[38;5;241m.\u001b[39mget(\u001b[38;5;124m\"\u001b[39m\u001b[38;5;124mkeep_index\u001b[39m\u001b[38;5;124m\"\u001b[39m, \u001b[38;5;28;01mFalse\u001b[39;00m)\n\u001b[1;32m     94\u001b[0m \u001b[38;5;28mself\u001b[39m\u001b[38;5;241m.\u001b[39mkeep_index_ordered \u001b[38;5;241m=\u001b[39m kwargs\u001b[38;5;241m.\u001b[39mget(\u001b[38;5;124m\"\u001b[39m\u001b[38;5;124mkeep_index_ordered\u001b[39m\u001b[38;5;124m\"\u001b[39m, \u001b[38;5;28;01mFalse\u001b[39;00m)\n\u001b[0;32m---> 95\u001b[0m \u001b[38;5;28mself\u001b[39m\u001b[38;5;241m.\u001b[39mmodel \u001b[38;5;241m=\u001b[39m \u001b[43mconvert_to_model\u001b[49m\u001b[43m(\u001b[49m\u001b[43mmodel\u001b[49m\u001b[43m,\u001b[49m\u001b[43m \u001b[49m\u001b[43mkeep_index\u001b[49m\u001b[38;5;241;43m=\u001b[39;49m\u001b[38;5;28;43mself\u001b[39;49m\u001b[38;5;241;43m.\u001b[39;49m\u001b[43mkeep_index\u001b[49m\u001b[43m)\u001b[49m\n\u001b[1;32m     96\u001b[0m \u001b[38;5;28mself\u001b[39m\u001b[38;5;241m.\u001b[39mdata \u001b[38;5;241m=\u001b[39m convert_to_data(data, keep_index\u001b[38;5;241m=\u001b[39m\u001b[38;5;28mself\u001b[39m\u001b[38;5;241m.\u001b[39mkeep_index)\n\u001b[1;32m     97\u001b[0m model_null \u001b[38;5;241m=\u001b[39m match_model_to_data(\u001b[38;5;28mself\u001b[39m\u001b[38;5;241m.\u001b[39mmodel, \u001b[38;5;28mself\u001b[39m\u001b[38;5;241m.\u001b[39mdata)\n",
      "File \u001b[0;32m~/.local/share/mamba/envs/tabr/lib/python3.9/site-packages/shap/utils/_legacy.py:126\u001b[0m, in \u001b[0;36mconvert_to_model\u001b[0;34m(val, keep_index)\u001b[0m\n\u001b[1;32m    123\u001b[0m     \u001b[38;5;28;01mif\u001b[39;00m f_self \u001b[38;5;129;01mand\u001b[39;00m \u001b[38;5;28mhasattr\u001b[39m(f_self, \u001b[38;5;124m\"\u001b[39m\u001b[38;5;124mfeature_names_in_\u001b[39m\u001b[38;5;124m\"\u001b[39m):\n\u001b[1;32m    124\u001b[0m         \u001b[38;5;66;03m# Make a copy so that the feature names are not removed from the original model\u001b[39;00m\n\u001b[1;32m    125\u001b[0m         out \u001b[38;5;241m=\u001b[39m copy\u001b[38;5;241m.\u001b[39mdeepcopy(out)\n\u001b[0;32m--> 126\u001b[0m         \u001b[43mout\u001b[49m\u001b[38;5;241;43m.\u001b[39;49m\u001b[43mf\u001b[49m\u001b[38;5;241;43m.\u001b[39;49m\u001b[38;5;18;43m__self__\u001b[39;49m\u001b[38;5;241;43m.\u001b[39;49m\u001b[43mfeature_names_in_\u001b[49m \u001b[38;5;241m=\u001b[39m \u001b[38;5;28;01mNone\u001b[39;00m\n\u001b[1;32m    128\u001b[0m \u001b[38;5;28;01mreturn\u001b[39;00m out\n",
      "\u001b[0;31mAttributeError\u001b[0m: can't set attribute"
     ]
    }
   ],
   "source": [
    "# Shap\n",
    "i = 0\n",
    "with warnings.catch_warnings():\n",
    "    warnings.simplefilter(\"ignore\")\n",
    "    for model_class in MODELS:\n",
    "        for model in rashomon_sets[model_class.__name__]:\n",
    "            i += 1\n",
    "            if i <= 4:\n",
    "                continue\n",
    "            # if hasattr(model, \"feature_names_in_\"):\n",
    "            # model.fit(X_train.values, y_train.values)\n",
    "            print(type(X_train.iloc[:100, :]))\n",
    "            shap_explainer = shap.KernelExplainer(model.predict, X_train.iloc[:100, :].to_numpy(), feature_names=list(X.columns))\n",
    "            explaination = shap_explainer(X_test.iloc[[SEED], :])\n",
    "            shap_values = explaination.values\n",
    "            shap.plots.beeswarm(explaination)\n",
    "            plt.plot()\n"
   ]
  },
  {
   "cell_type": "code",
   "execution_count": null,
   "metadata": {},
   "outputs": [
    {
     "name": "stdout",
     "output_type": "stream",
     "text": [
      "TabRClassifier\n"
     ]
    },
    {
     "name": "stderr",
     "output_type": "stream",
     "text": [
      "0it [00:00, ?it/s]"
     ]
    },
    {
     "name": "stderr",
     "output_type": "stream",
     "text": [
      "/home/krzaq/xai/XAI-team-project/pytorch_tabr/base_model.py:162: UserWarning: Device used : cuda\n",
      "  warnings.warn(f\"Device used : {self.device}\")\n",
      "/home/krzaq/xai/XAI-team-project/pytorch_tabr/base_model.py:258: UserWarning: No early stopping will be performed, last training weights will be used.\n",
      "  warnings.warn(wrn_msg)\n"
     ]
    },
    {
     "data": {
      "application/vnd.jupyter.widget-view+json": {
       "model_id": "8e6597cadb3c433f995ce17f9a9ebea0",
       "version_major": 2,
       "version_minor": 0
      },
      "text/plain": [
       " epochs:   0%|          | 0/2 [00:00<?, ?it/s]"
      ]
     },
     "metadata": {},
     "output_type": "display_data"
    },
    {
     "data": {
      "application/vnd.jupyter.widget-view+json": {
       "model_id": "02832322893e4cfab16087ff995fc20f",
       "version_major": 2,
       "version_minor": 0
      },
      "text/plain": [
       " batches:   0%|          | 0/271 [00:00<?, ?it/s]"
      ]
     },
     "metadata": {},
     "output_type": "display_data"
    },
    {
     "name": "stderr",
     "output_type": "stream",
     "text": [
      "/home/krzaq/.local/share/mamba/envs/tabr/lib/python3.9/site-packages/faiss/contrib/torch_utils.py:51: UserWarning: TypedStorage is deprecated. It will be removed in the future and UntypedStorage will be the only storage class. This should only matter to you if you are using storages directly.  To access UntypedStorage directly, use tensor.untyped_storage() instead of tensor.storage()\n",
      "  x.storage().data_ptr() + x.storage_offset() * 4)\n",
      "/home/krzaq/.local/share/mamba/envs/tabr/lib/python3.9/site-packages/faiss/contrib/torch_utils.py:65: UserWarning: TypedStorage is deprecated. It will be removed in the future and UntypedStorage will be the only storage class. This should only matter to you if you are using storages directly.  To access UntypedStorage directly, use tensor.untyped_storage() instead of tensor.storage()\n",
      "  x.storage().data_ptr() + x.storage_offset() * 8)\n",
      "1it [00:15, 15.20s/it]"
     ]
    },
    {
     "data": {
      "application/vnd.jupyter.widget-view+json": {
       "model_id": "22db39d10ae54493bb5370341f5e4d5e",
       "version_major": 2,
       "version_minor": 0
      },
      "text/plain": [
       " epochs:   0%|          | 0/2 [00:00<?, ?it/s]"
      ]
     },
     "metadata": {},
     "output_type": "display_data"
    },
    {
     "data": {
      "application/vnd.jupyter.widget-view+json": {
       "model_id": "944e74519e7148a0bae256d8934f8caf",
       "version_major": 2,
       "version_minor": 0
      },
      "text/plain": [
       " batches:   0%|          | 0/271 [00:00<?, ?it/s]"
      ]
     },
     "metadata": {},
     "output_type": "display_data"
    },
    {
     "name": "stdout",
     "output_type": "stream",
     "text": [
      "Training stopped. Calling callbacks...\n"
     ]
    },
    {
     "name": "stderr",
     "output_type": "stream",
     "text": [
      "2it [00:27, 13.40s/it]"
     ]
    },
    {
     "data": {
      "application/vnd.jupyter.widget-view+json": {
       "model_id": "6ff6a4806bbe4a45981d0c53dae0ca3c",
       "version_major": 2,
       "version_minor": 0
      },
      "text/plain": [
       " epochs:   0%|          | 0/2 [00:00<?, ?it/s]"
      ]
     },
     "metadata": {},
     "output_type": "display_data"
    },
    {
     "data": {
      "application/vnd.jupyter.widget-view+json": {
       "model_id": "0881dfb6022f4d5bbea6b2fe4dca0a9a",
       "version_major": 2,
       "version_minor": 0
      },
      "text/plain": [
       " batches:   0%|          | 0/271 [00:00<?, ?it/s]"
      ]
     },
     "metadata": {},
     "output_type": "display_data"
    }
   ],
   "source": [
    "reload(training_and_selection)\n",
    "torch.cuda.empty_cache()\n",
    "from xgboost import XGBClassifier\n",
    "from models import SVMClassifier, TabRClassifier\n",
    "from training_and_selection import train_test_models\n",
    "\n",
    "\n",
    "XGBCLASSIFIER_HYPERPARAMETERS = {\n",
    "    'n_estimators': [100, 200, 400, 600],\n",
    "    \"max_depth\": [6, 8, 10, 12],\n",
    "    \"min_child_weight\": [1, 4],\n",
    "    \"eta\": [0.1, 0.3, 0.6],\n",
    "    \"subsample\": [0.5, 0.8, 1],\n",
    "    # \"lambda\": [0, 0.2, 1, 5, 12, 25],\n",
    "    # \"alpha\": [0, 0.2, 1, 5, 12, 25],\n",
    "}\n",
    "\n",
    "SVMCLASSIFIER_HYPERPARAMETERS = {\n",
    "    \"degree\": [2, 3, 4, 5, 8, 10],\n",
    "    \"kernel\": ['poly', 'rbf', 'sigmoid'],\n",
    "    'C': [0.1, 0.25, 0.5, 1, 2, 4, 8, 16],\n",
    "    'gamma': ['auto', 0.2, 0.5, 1, 4],\n",
    "    'max_iter': [30000],\n",
    "}\n",
    "\n",
    "TABRCLASSIFIER_HYPERPARAMETERS = {\n",
    "    'activation': ['SiLU', 'GELU', 'Sigmoid', 'ReLU'],\n",
    "    'd_main': [128, 256],\n",
    "    'd_multiplier': [1.5, 2, 4, 6],\n",
    "    'dropout0': [0, 0.1, 0.25],\n",
    "    'dropout1': ['dropout0'],\n",
    "    'context_size': [16, 32, 64],\n",
    "    'encoder_n_blocks': [2],\n",
    "    'predictor_n_blocks': [2],\n",
    "    'seed': [69],\n",
    "    'max_epochs': [2]\n",
    "}\n",
    "\n",
    "\n",
    "MODELS = [TabRClassifier, SVMClassifier, XGBClassifier, ]\n",
    "HYPERPARAMETERS = {\n",
    "    XGBClassifier.__name__ : XGBCLASSIFIER_HYPERPARAMETERS,\n",
    "    SVMClassifier.__name__ : SVMCLASSIFIER_HYPERPARAMETERS,\n",
    "    TabRClassifier.__name__ : TABRCLASSIFIER_HYPERPARAMETERS\n",
    "}\n",
    "\n",
    "results = train_test_models(\n",
    "    MODELS, \n",
    "    # {TabRClassifier.__name__ : TABRCLASSIFIER_HYPERPARAMETERS},\n",
    "    HYPERPARAMETERS,\n",
    "    X=X_train,\n",
    "    y=y_train,\n",
    "    path='tabr_tests.csv',\n",
    "    limit=50,\n",
    ")\n",
    "\n"
   ]
  },
  {
   "cell_type": "code",
   "execution_count": 7,
   "metadata": {},
   "outputs": [
    {
     "data": {
      "text/plain": [
       "0"
      ]
     },
     "execution_count": 7,
     "metadata": {},
     "output_type": "execute_result"
    }
   ],
   "source": [
    "import gc\n",
    "gc.collect()"
   ]
  }
 ],
 "metadata": {
  "colab": {
   "provenance": []
  },
  "kernelspec": {
   "display_name": "Python 3",
   "language": "python",
   "name": "python3"
  },
  "language_info": {
   "codemirror_mode": {
    "name": "ipython",
    "version": 3
   },
   "file_extension": ".py",
   "mimetype": "text/x-python",
   "name": "python",
   "nbconvert_exporter": "python",
   "pygments_lexer": "ipython3",
   "version": "3.9.16"
  }
 },
 "nbformat": 4,
 "nbformat_minor": 0
}
